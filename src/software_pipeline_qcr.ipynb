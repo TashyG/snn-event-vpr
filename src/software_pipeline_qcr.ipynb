{
 "cells": [
  {
   "cell_type": "markdown",
   "metadata": {},
   "source": [
    "%%% Imports"
   ]
  },
  {
   "cell_type": "code",
   "execution_count": 1,
   "metadata": {},
   "outputs": [],
   "source": [
    "\n",
    "from __future__ import annotations\n",
    "from time import time\n",
    "from QCRVPRDataset import QCRVPRDataset\n",
    "from VPRNetwork import VPRNetwork\n",
    "from plotting import plot_confusion_matrix, plot_match_images, plot_gps\n",
    "from constants import brisbane_event_traverses, qcr_traverses, brisbane_event_traverses_aliases\n",
    "from utils import get_short_traverse_name\n",
    "\n",
    "import os, sys\n",
    "import torch\n",
    "from torch.utils.data import DataLoader\n",
    "import matplotlib.pyplot as plt\n",
    "from matplotlib import animation\n",
    "from scipy import signal\n",
    "from datetime import datetime\n",
    "\n",
    "import numpy as np\n",
    "\n",
    "import lava.lib.dl.slayer as slayer\n",
    "from lava.lib.dl.slayer.classifier import Rate\n"
   ]
  },
  {
   "cell_type": "code",
   "execution_count": 2,
   "metadata": {},
   "outputs": [
    {
     "name": "stdout",
     "output_type": "stream",
     "text": [
      "True\n"
     ]
    }
   ],
   "source": [
    "# Training settings\n",
    "from cgi import test\n",
    "\n",
    "\n",
    "epochs = 50\n",
    "batch_size = 10\n",
    "\n",
    "# Network settings\n",
    "input_size = 34\n",
    "threshold = 1.0\n",
    "\n",
    "# Data settings\n",
    "train_traverse = qcr_traverses[0]\n",
    "test_traverse = qcr_traverses[3]\n",
    "train_name = get_short_traverse_name(train_traverse)\n",
    "test_name = get_short_traverse_name(test_traverse)\n",
    "num_places = 30\n",
    "start_time = 0\n",
    "place_gap = 5 #164/num_places # The streams run for approximately 164 seconds \n",
    "samples_per_sec = 1000\n",
    "place_duration = 2\n",
    "max_spikes = 2000\n",
    "incorporate_speed = True\n",
    "\n",
    "\n",
    "# Sequencer settings\n",
    "sequence_length = 3\n",
    "\n",
    "# Plot settings\n",
    "redo_plot = False\n",
    "vmin = 0\n",
    "vmax = 0.05\n",
    "\n",
    "def transpose( matrix):\n",
    "    if len(matrix) == 0:\n",
    "        return []\n",
    "    return [[matrix[i][j] for i in range(len(matrix))] for j in range(len(matrix[0]))]\n",
    "\n",
    "\n",
    "# Make a folder for the trained network\n",
    "trained_folder = 'Trained'\n",
    "os.makedirs(trained_folder, exist_ok=True)\n",
    "\n",
    "# Use GPU\n",
    "print(torch.cuda.is_available())\n",
    "device = torch.device('cuda')\n",
    "\n",
    "#---------------- Create the Network -----------------#\n",
    "\n",
    "# Create the network\n",
    "net = VPRNetwork(input_size, num_places, threshold=threshold).to(device)\n"
   ]
  },
  {
   "cell_type": "code",
   "execution_count": 3,
   "metadata": {},
   "outputs": [
    {
     "name": "stdout",
     "output_type": "stream",
     "text": [
      "Loading training event streams ...\n"
     ]
    },
    {
     "data": {
      "application/json": {
       "ascii": false,
       "bar_format": null,
       "colour": null,
       "elapsed": 0.016415834426879883,
       "initial": 0,
       "n": 0,
       "ncols": null,
       "nrows": null,
       "postfix": null,
       "prefix": "",
       "rate": null,
       "total": 1,
       "unit": "it",
       "unit_divisor": 1000,
       "unit_scale": false
      },
      "application/vnd.jupyter.widget-view+json": {
       "model_id": "df3f8adf057e44dd828e4b685baef38f",
       "version_major": 2,
       "version_minor": 0
      },
      "text/plain": [
       "  0%|          | 0/1 [00:00<?, ?it/s]"
      ]
     },
     "metadata": {},
     "output_type": "display_data"
    },
    {
     "name": "stdout",
     "output_type": "stream",
     "text": [
      "Duration: 164.20s (which is 36141275 events)\n"
     ]
    },
    {
     "name": "stderr",
     "output_type": "stream",
     "text": [
      "/home/n10223622/snn-event-vpr/src/QCRVPRDataset.py:85: SettingWithCopyWarning: \n",
      "A value is trying to be set on a copy of a slice from a DataFrame\n",
      "\n",
      "See the caveats in the documentation: https://pandas.pydata.org/pandas-docs/stable/user_guide/indexing.html#returning-a-view-versus-a-copy\n",
      "  event_stream['x'].loc[small_filt0x] = i\n",
      "/home/n10223622/snn-event-vpr/src/QCRVPRDataset.py:89: SettingWithCopyWarning: \n",
      "A value is trying to be set on a copy of a slice from a DataFrame\n",
      "\n",
      "See the caveats in the documentation: https://pandas.pydata.org/pandas-docs/stable/user_guide/indexing.html#returning-a-view-versus-a-copy\n",
      "  event_stream['y'].loc[small_filt0y] = i\n"
     ]
    },
    {
     "name": "stdout",
     "output_type": "stream",
     "text": [
      "[0, 5, 10, 15, 20, 25, 30, 35, 40, 45, 50, 55, 60, 65, 70, 75, 80, 85, 90, 95, 100, 105, 110, 115, 120, 125, 130, 135, 140, 145]\n",
      "The number of training substreams is: 30\n"
     ]
    },
    {
     "name": "stderr",
     "output_type": "stream",
     "text": [
      "/home/n10223622/snn-event-vpr/src/QCRVPRDataset.py:50: SettingWithCopyWarning: \n",
      "A value is trying to be set on a copy of a slice from a DataFrame.\n",
      "Try using .loc[row_indexer,col_indexer] = value instead\n",
      "\n",
      "See the caveats in the documentation: https://pandas.pydata.org/pandas-docs/stable/user_guide/indexing.html#returning-a-view-versus-a-copy\n",
      "  chopped_stream['t'] -= chop_start\n"
     ]
    },
    {
     "data": {
      "application/json": {
       "ascii": false,
       "bar_format": null,
       "colour": null,
       "elapsed": 0.010725021362304688,
       "initial": 0,
       "n": 0,
       "ncols": null,
       "nrows": null,
       "postfix": null,
       "prefix": "",
       "rate": null,
       "total": 1,
       "unit": "it",
       "unit_divisor": 1000,
       "unit_scale": false
      },
      "application/vnd.jupyter.widget-view+json": {
       "model_id": "955d359144f7429595856551c166b28d",
       "version_major": 2,
       "version_minor": 0
      },
      "text/plain": [
       "  0%|          | 0/1 [00:00<?, ?it/s]"
      ]
     },
     "metadata": {},
     "output_type": "display_data"
    },
    {
     "name": "stdout",
     "output_type": "stream",
     "text": [
      "Duration: 71.37s (which is 37397552 events)\n",
      "[ 0.          2.1732159   4.3464318   6.51964771  8.69286361 10.86607951\n",
      " 13.03929541 15.21251131 17.38572721 19.55894312 21.73215902 23.90537492\n",
      " 26.07859082 28.25180672 30.42502263 32.59823853 34.77145443 36.94467033\n",
      " 39.11788623 41.29110213 43.46431804 45.63753394 47.81074984 49.98396574\n",
      " 52.15718164 54.33039755 56.50361345 58.67682935 60.85004525 63.02326115]\n",
      "Place duration 2\n",
      "Speed ratio 0.4346431803636916\n"
     ]
    },
    {
     "name": "stderr",
     "output_type": "stream",
     "text": [
      "/home/n10223622/snn-event-vpr/src/QCRVPRDataset.py:124: SettingWithCopyWarning: \n",
      "A value is trying to be set on a copy of a slice from a DataFrame\n",
      "\n",
      "See the caveats in the documentation: https://pandas.pydata.org/pandas-docs/stable/user_guide/indexing.html#returning-a-view-versus-a-copy\n",
      "  event_stream['x'].loc[small_filt0x] = i\n",
      "/home/n10223622/snn-event-vpr/src/QCRVPRDataset.py:128: SettingWithCopyWarning: \n",
      "A value is trying to be set on a copy of a slice from a DataFrame\n",
      "\n",
      "See the caveats in the documentation: https://pandas.pydata.org/pandas-docs/stable/user_guide/indexing.html#returning-a-view-versus-a-copy\n",
      "  event_stream['y'].loc[small_filt0y] = i\n"
     ]
    },
    {
     "name": "stdout",
     "output_type": "stream",
     "text": [
      "The number of testing substreams is: 30\n"
     ]
    },
    {
     "name": "stderr",
     "output_type": "stream",
     "text": [
      "/home/n10223622/snn-event-vpr/src/QCRVPRDataset.py:50: SettingWithCopyWarning: \n",
      "A value is trying to be set on a copy of a slice from a DataFrame.\n",
      "Try using .loc[row_indexer,col_indexer] = value instead\n",
      "\n",
      "See the caveats in the documentation: https://pandas.pydata.org/pandas-docs/stable/user_guide/indexing.html#returning-a-view-versus-a-copy\n",
      "  chopped_stream['t'] -= chop_start\n"
     ]
    }
   ],
   "source": [
    "# Load the data\n",
    "training_set = QCRVPRDataset(train_traverse, train=True, place_duration = place_duration, place_gap=place_gap, num_places=num_places, start_time=start_time,samples_per_sec=samples_per_sec, max_spikes=max_spikes, subselect_num=input_size)\n",
    "if incorporate_speed:\n",
    "    testing_set  = QCRVPRDataset(test_traverse, train=False, place_duration = place_duration, place_gap=place_gap, num_places=num_places, start_time=start_time, samples_per_sec=samples_per_sec, max_spikes=max_spikes, subselect_num=input_size, relative_place_times=training_set.relative_place_times, training_duration=training_set.training_duration) # training_duration=training_set.training_duration\n",
    "else:\n",
    "    testing_set  = QCRVPRDataset(test_traverse, train=False, place_duration = place_duration, place_gap=place_gap, num_places=num_places, start_time=start_time, samples_per_sec=samples_per_sec, max_spikes=max_spikes, subselect_num=input_size, relative_place_times=training_set.relative_place_times)\n",
    "\n",
    "train_loader = DataLoader(dataset=training_set, batch_size=batch_size, shuffle=True)\n",
    "test_loader  = DataLoader(dataset=testing_set , batch_size=batch_size, shuffle=True)"
   ]
  },
  {
   "cell_type": "code",
   "execution_count": 4,
   "metadata": {},
   "outputs": [
    {
     "name": "stdout",
     "output_type": "stream",
     "text": [
      "[Epoch  0/50] Train loss =     0.54516                        accuracy = 0.03333 | Test  loss =     0.55948                        accuracy = 0.03333\n",
      "Accuracy was none\n",
      "[Epoch  1/50] Train loss =     0.44821 (min =     0.54516)    accuracy = 0.06667 (max = 0.03333) | Test  loss =     0.38524 (min =     0.55948)    accuracy = 0.03333 (max = 0.03333)\n",
      "Accuracy was none\n",
      "[Epoch  2/50] Train loss =     0.36391 (min =     0.44821)    accuracy = 0.40000 (max = 0.06667) | Test  loss =     0.40895 (min =     0.38524)    accuracy = 0.06667 (max = 0.03333)\n",
      "Accuracy was none\n",
      "[Epoch  3/50] Train loss =     0.29485 (min =     0.36391)    accuracy = 0.80000 (max = 0.40000) | Test  loss =     0.34425 (min =     0.38524)\n",
      "Accuracy was none\n",
      "\n",
      "Accuracy was none\n",
      "[Epoch  4/50] Train loss =     0.24264 (min =     0.29485)    accuracy = 0.93333 (max = 0.80000) | Test  loss =     0.38477 (min =     0.34425)    accuracy = 0.03333 (max = 0.06667)\n",
      "Accuracy was none\n",
      "[Epoch  5/50] Train loss =     0.21649 (min =     0.24264)    accuracy = 0.93333 (max = 0.93333) | Test  loss =     0.34402 (min =     0.34425)    accuracy = 0.06667 (max = 0.06667)\n",
      "Accuracy was none\n",
      "[Epoch  6/50] Train loss =     0.17928 (min =     0.21649)    accuracy = 0.96667 (max = 0.93333) | Test  loss =     0.37354 (min =     0.34402)    accuracy = 0.03333 (max = 0.06667)\n",
      "Accuracy was none\n",
      "[Epoch  7/50] Train loss =     0.16840 (min =     0.17928)    accuracy = 0.96667 (max = 0.96667) | Test  loss =     0.36407 (min =     0.34402)    accuracy = 0.03333 (max = 0.06667)\n",
      "Accuracy was none\n",
      "[Epoch  8/50] Train loss =     0.13200 (min =     0.16840)    accuracy = 0.96667 (max = 0.96667) | Test  loss =     0.36285 (min =     0.34402)    accuracy = 0.03333 (max = 0.06667)\n",
      "Accuracy was none\n",
      "[Epoch  9/50] Train loss =     0.11848 (min =     0.13200)    accuracy = 1.00000 (max = 0.96667) | Test  loss =     0.37310 (min =     0.34402)    accuracy = 0.06667 (max = 0.06667)\n",
      "Accuracy was none\n",
      "[Epoch 10/50] Train loss =     0.10367 (min =     0.11848)    accuracy = 1.00000 (max = 1.00000) | Test  loss =     0.36469 (min =     0.34402)    accuracy = 0.06667 (max = 0.06667)\n",
      "Accuracy was none\n",
      "[Epoch 11/50] Train loss =     0.08448 (min =     0.10367)    accuracy = 1.00000 (max = 1.00000) | Test  loss =     0.37458 (min =     0.34402)    accuracy = 0.06667 (max = 0.06667)\n",
      "Accuracy was none\n",
      "[Epoch 12/50] Train loss =     0.07290 (min =     0.08448)    accuracy = 1.00000 (max = 1.00000) | Test  loss =     0.37476 (min =     0.34402)    accuracy = 0.10000 (max = 0.06667)\n",
      "Accuracy was none\n",
      "[Epoch 13/50] Train loss =     0.06432 (min =     0.07290)    accuracy = 1.00000 (max = 1.00000) | Test  loss =     0.37537 (min =     0.34402)    accuracy = 0.06667 (max = 0.10000)\n",
      "Accuracy was none\n",
      "[Epoch 14/50] Train loss =     0.06174 (min =     0.06432)    accuracy = 1.00000 (max = 1.00000) | Test  loss =     0.37515 (min =     0.34402)    accuracy = 0.06667 (max = 0.10000)\n",
      "Accuracy was none\n",
      "[Epoch 15/50] Train loss =     0.04886 (min =     0.06174)    accuracy = 1.00000 (max = 1.00000) | Test  loss =     0.37937 (min =     0.34402)    accuracy = 0.06667 (max = 0.10000)\n",
      "Accuracy was none\n",
      "[Epoch 16/50] Train loss =     0.04928 (min =     0.04886)    accuracy = 1.00000 (max = 1.00000) | Test  loss =     0.37846 (min =     0.34402)    accuracy = 0.06667 (max = 0.10000)\n",
      "Accuracy was none\n",
      "[Epoch 17/50] Train loss =     0.04709 (min =     0.04886)    accuracy = 1.00000 (max = 1.00000) | Test  loss =     0.38399 (min =     0.34402)    accuracy = 0.10000 (max = 0.10000)\n",
      "Accuracy was none\n",
      "[Epoch 18/50] Train loss =     0.04126 (min =     0.04709)    accuracy = 1.00000 (max = 1.00000) | Test  loss =     0.37883 (min =     0.34402)    accuracy = 0.06667 (max = 0.10000)\n",
      "Accuracy was none\n",
      "                                                                                                                                                                                       \n",
      "[Epoch 19/50]\n",
      "Train loss =     0.04046 (min =     0.04126)    accuracy = 1.00000 (max = 1.00000) \n",
      "Test  loss =     0.38478 (min =     0.34402)    accuracy = 0.06667 (max = 0.10000)\n",
      "\n",
      "Accuracy was none\n",
      "[Epoch 20/50] Train loss =     0.03956 (min =     0.04046)    accuracy = 1.00000 (max = 1.00000) | Test  loss =     0.38623 (min =     0.34402)    accuracy = 0.10000 (max = 0.10000)\n",
      "Accuracy was none\n",
      "[Epoch 21/50] Train loss =     0.03762 (min =     0.03956)    accuracy = 1.00000 (max = 1.00000) | Test  loss =     0.38098 (min =     0.34402)    accuracy = 0.06667 (max = 0.10000)\n",
      "Accuracy was none\n",
      "[Epoch 22/50] Train loss =     0.03132 (min =     0.03762)    accuracy = 1.00000 (max = 1.00000) | Test  loss =     0.38813 (min =     0.34402)    accuracy = 0.06667 (max = 0.10000)\n",
      "Accuracy was none\n",
      "[Epoch 23/50] Train loss =     0.03440 (min =     0.03132)    accuracy = 1.00000 (max = 1.00000) | Test  loss =     0.38435 (min =     0.34402)    accuracy = 0.10000 (max = 0.10000)\n",
      "Accuracy was none\n",
      "[Epoch 24/50] Train loss =     0.03288 (min =     0.03132)    accuracy = 1.00000 (max = 1.00000) | Test  loss =     0.38936 (min =     0.34402)    accuracy = 0.13333 (max = 0.10000)\n",
      "Accuracy was none\n",
      "[Epoch 25/50] Train loss =     0.03422 (min =     0.03132)    accuracy = 1.00000 (max = 1.00000) | Test  loss =     0.38710 (min =     0.34402)    accuracy = 0.06667 (max = 0.13333)\n",
      "Accuracy was none\n",
      "[Epoch 26/50] Train loss =     0.03035 (min =     0.03132)    accuracy = 1.00000 (max = 1.00000) | Test  loss =     0.39256 (min =     0.34402)    accuracy = 0.03333 (max = 0.13333)\n",
      "Accuracy was none\n",
      "[Epoch 27/50] Train loss =     0.03054 (min =     0.03035)    accuracy = 1.00000 (max = 1.00000) | Test  loss =     0.38848 (min =     0.34402)    accuracy = 0.10000 (max = 0.13333)\n",
      "Accuracy was none\n",
      "[Epoch 28/50] Train loss =     0.02670 (min =     0.03035)    accuracy = 1.00000 (max = 1.00000) | Test  loss =     0.38613 (min =     0.34402)    accuracy = 0.06667 (max = 0.13333)\n",
      "Accuracy was none\n",
      "[Epoch 29/50] Train loss =     0.02652 (min =     0.02670)    accuracy = 1.00000 (max = 1.00000) | Test  loss =     0.39872 (min =     0.34402)    accuracy = 0.06667 (max = 0.13333)\n",
      "Accuracy was none\n",
      "[Epoch 30/50] Train loss =     0.02848 (min =     0.02652)    accuracy = 1.00000 (max = 1.00000) | Test  loss =     0.39595 (min =     0.34402)    accuracy = 0.13333 (max = 0.13333)\n",
      "Accuracy was none\n",
      "[Epoch 31/50] Train loss =     0.03232 (min =     0.02652)    accuracy = 1.00000 (max = 1.00000) | Test  loss =     0.39312 (min =     0.34402)    accuracy = 0.06667 (max = 0.13333)\n",
      "Accuracy was none\n",
      "[Epoch 32/50] Train loss =     0.03064 (min =     0.02652)    accuracy = 1.00000 (max = 1.00000) | Test  loss =     0.40294 (min =     0.34402)    accuracy = 0.10000 (max = 0.13333)\n",
      "Accuracy was none\n",
      "[Epoch 33/50] Train loss =     0.03337 (min =     0.02652)    accuracy = 1.00000 (max = 1.00000) | Test  loss =     0.39864 (min =     0.34402)    accuracy = 0.10000 (max = 0.13333)\n",
      "Accuracy was none\n",
      "[Epoch 34/50] Train loss =     0.03168 (min =     0.02652)    accuracy = 1.00000 (max = 1.00000) | Test  loss =     0.39446 (min =     0.34402)    accuracy = 0.06667 (max = 0.13333)\n",
      "Accuracy was none\n",
      "[Epoch 35/50] Train loss =     0.03329 (min =     0.02652)    accuracy = 1.00000 (max = 1.00000) | Test  loss =     0.40017 (min =     0.34402)    accuracy = 0.10000 (max = 0.13333)\n",
      "Accuracy was none\n",
      "[Epoch 36/50] Train loss =     0.03554 (min =     0.02652)    accuracy = 1.00000 (max = 1.00000) | Test  loss =     0.40286 (min =     0.34402)    accuracy = 0.10000 (max = 0.13333)\n",
      "Accuracy was none\n",
      "[Epoch 37/50] Train loss =     0.03475 (min =     0.02652)    accuracy = 1.00000 (max = 1.00000) | Test  loss =     0.39714 (min =     0.34402)    accuracy = 0.06667 (max = 0.13333)\n",
      "Accuracy was none\n",
      "[Epoch 38/50] Train loss =     0.03208 (min =     0.02652)    accuracy = 1.00000 (max = 1.00000) | Test  loss =     0.39651 (min =     0.34402)    accuracy = 0.10000 (max = 0.13333)\n",
      "Accuracy was none\n",
      "                                                                                                                                                                                       \n",
      "[Epoch 39/50]\n",
      "Train loss =     0.03500 (min =     0.02652)    accuracy = 1.00000 (max = 1.00000) \n",
      "Test  loss =     0.40068 (min =     0.34402)    accuracy = 0.13333 (max = 0.13333)\n",
      "\n",
      "Accuracy was none\n",
      "[Epoch 40/50] Train loss =     0.03074 (min =     0.02652)    accuracy = 1.00000 (max = 1.00000) | Test  loss =     0.40499 (min =     0.34402)    accuracy = 0.06667 (max = 0.13333)\n",
      "Accuracy was none\n",
      "[Epoch 41/50] Train loss =     0.02984 (min =     0.02652)    accuracy = 1.00000 (max = 1.00000) | Test  loss =     0.40485 (min =     0.34402)    accuracy = 0.10000 (max = 0.13333)\n",
      "Accuracy was none\n",
      "[Epoch 42/50] Train loss =     0.03414 (min =     0.02652)    accuracy = 1.00000 (max = 1.00000) | Test  loss =     0.40274 (min =     0.34402)    accuracy = 0.10000 (max = 0.13333)\n",
      "Accuracy was none\n",
      "[Epoch 43/50] Train loss =     0.03246 (min =     0.02652)    accuracy = 1.00000 (max = 1.00000) | Test  loss =     0.40996 (min =     0.34402)    accuracy = 0.06667 (max = 0.13333)\n",
      "Accuracy was none\n",
      "[Epoch 44/50] Train loss =     0.03221 (min =     0.02652)    accuracy = 1.00000 (max = 1.00000) | Test  loss =     0.41388 (min =     0.34402)    accuracy = 0.10000 (max = 0.13333)\n",
      "Accuracy was none\n",
      "[Epoch 45/50] Train loss =     0.03181 (min =     0.02652)    accuracy = 1.00000 (max = 1.00000) | Test  loss =     0.39875 (min =     0.34402)    accuracy = 0.10000 (max = 0.13333)\n",
      "Accuracy was none\n",
      "[Epoch 46/50] Train loss =     0.03109 (min =     0.02652)    accuracy = 1.00000 (max = 1.00000) | Test  loss =     0.40962 (min =     0.34402)    accuracy = 0.10000 (max = 0.13333)\n",
      "Accuracy was none\n",
      "[Epoch 47/50] Train loss =     0.03496 (min =     0.02652)    accuracy = 1.00000 (max = 1.00000) | Test  loss =     0.40919 (min =     0.34402)    accuracy = 0.03333 (max = 0.13333)\n",
      "Accuracy was none\n",
      "[Epoch 48/50] Train loss =     0.03737 (min =     0.02652)    accuracy = 1.00000 (max = 1.00000) | Test  loss =     0.40624 (min =     0.34402)    accuracy = 0.10000 (max = 0.13333)\n",
      "Accuracy was none\n",
      "[Epoch 49/50] Train loss =     0.03300 (min =     0.02652)    accuracy = 1.00000 (max = 1.00000) | Test  loss =     0.41727 (min =     0.34402)    accuracy = 0.10000 (max = 0.13333)\n",
      "Accuracy was none\n"
     ]
    }
   ],
   "source": [
    "# Define an optimiser \n",
    "optimizer = torch.optim.Adam(net.parameters(), lr=0.001)\n",
    "\n",
    "# Training the network\n",
    "error = slayer.loss.SpikeRate(true_rate=0.2, false_rate=0.03, reduction='sum').to(device)\n",
    "\n",
    "# Create a training assistant object\n",
    "stats = slayer.utils.LearningStats()\n",
    "assistant = slayer.utils.Assistant(net, error, optimizer, stats, classifier=slayer.classifier.Rate.predict)\n",
    "\n",
    "\n",
    "if redo_plot:\n",
    "    for i, (input, label) in enumerate(train_loader): # training loop\n",
    "        output = assistant.train(input, label)\n",
    "\n",
    "else: \n",
    "    for epoch in range(epochs):\n",
    "\n",
    "        for i, (input, label) in enumerate(train_loader): # training loop\n",
    "            output = assistant.train(input, label)\n",
    "        print(f'\\r[Epoch {epoch:2d}/{epochs}] {stats}', end='')\n",
    "\n",
    "        for i, (input, label) in enumerate(test_loader): # training loop\n",
    "            output = assistant.test(input, label)\n",
    "        print(f'\\r[Epoch {epoch:2d}/{epochs}] {stats}', end='')\n",
    "\n",
    "        if epoch%20 == 19: # cleanup display\n",
    "            print('\\r', ' '*len(f'\\r[Epoch {epoch:2d}/{epochs}] {stats}'))\n",
    "            stats_str = str(stats).replace(\"| \", \"\\n\")\n",
    "            print(f'[Epoch {epoch:2d}/{epochs}]\\n{stats_str}')\n",
    "\n",
    "        if stats.testing.best_accuracy:\n",
    "            torch.save(net.state_dict(), trained_folder + '/network.pt')\n",
    "        stats.update()\n",
    "        stats.save(trained_folder + '/')\n",
    "        net.grad_flow(trained_folder + '/')"
   ]
  },
  {
   "cell_type": "code",
   "execution_count": 5,
   "metadata": {},
   "outputs": [
    {
     "name": "stdout",
     "output_type": "stream",
     "text": [
      "(30, 30)\n"
     ]
    }
   ],
   "source": [
    "# import the best network during training \n",
    "net.load_state_dict(torch.load(trained_folder + '/network.pt'))\n",
    "net.export_hdf5(trained_folder + '/network.net')\n",
    "\n",
    "# Get the output for the input to each place\n",
    "test_loader2  = DataLoader(dataset=testing_set , batch_size=batch_size, shuffle=False)\n",
    "rate = []\n",
    "labels = []\n",
    "for i, (input, label) in enumerate(test_loader2):\n",
    "    output = net(input.to(device)) # Get network output\n",
    "    #guesses = assistant.classifier(output).cpu().data.numpy() # get the predictions \n",
    "    rate.extend(Rate.rate(output).cpu().data.numpy()) # Get the firing rates for each place \n",
    "    labels.extend(label.cpu().data.numpy()) # Get place labels\n",
    "\n",
    "\n",
    "# # Get rates in percentages of total\n",
    "# for i in range(num_places):\n",
    "#     sum = np.sum(rate[i])\n",
    "#     if sum != 0:\n",
    "#         rate[i] = np.divide(rate[i],sum)\n",
    "\n",
    "# Make confusion matrix annotations\n",
    "accuracy = 0\n",
    "matches = []\n",
    "annotations = [['' for i in range(num_places)] for j in range(num_places)]\n",
    "for qryIndex in range(num_places):\n",
    "    max_idx = np.argmax(rate[qryIndex])\n",
    "    matches.append(max_idx)\n",
    "    annotations[max_idx][qryIndex] = 'x'\n",
    "    if max_idx ==qryIndex:\n",
    "        accuracy += 1\n",
    "\n",
    "\n",
    "#--------------- Apply a sequencer ------------------#\n",
    "I = np.identity(sequence_length)\n",
    "conv = signal.convolve2d(rate, I, mode='same')\n",
    "print(np.shape(conv))\n",
    "\n",
    "# Make confusion matrix annotations\n",
    "accuracy_s = 0\n",
    "matches_with_seq = []\n",
    "annotations_s = [['' for i in range(num_places)] for j in range(num_places)]\n",
    "for qryIndex in range(num_places):\n",
    "    max_idx = np.argmax(conv[qryIndex])\n",
    "    matches_with_seq.append(max_idx)\n",
    "    annotations_s[max_idx][qryIndex] = 'x'\n",
    "    if max_idx == qryIndex:\n",
    "        accuracy_s += 1\n",
    "\n"
   ]
  },
  {
   "cell_type": "code",
   "execution_count": 6,
   "metadata": {},
   "outputs": [
    {
     "name": "stdout",
     "output_type": "stream",
     "text": [
      "help\n"
     ]
    },
    {
     "data": {
      "text/plain": [
       "<Figure size 1296x288 with 0 Axes>"
      ]
     },
     "metadata": {},
     "output_type": "display_data"
    },
    {
     "data": {
      "text/plain": [
       "<Figure size 1296x288 with 0 Axes>"
      ]
     },
     "metadata": {},
     "output_type": "display_data"
    }
   ],
   "source": [
    "\n",
    "#--------------- Save Results ------------------#\n",
    "\n",
    "# Make new folder for results\n",
    "from tracemalloc import start\n",
    "from plotting import plot_gps\n",
    "\n",
    "\n",
    "time_stamp = datetime.now().strftime('%Y-%m-%d_%H-%M-%S')\n",
    "results_path = \"./../results/\" + time_stamp\n",
    "os.mkdir(results_path)\n",
    "\n",
    "\n",
    "# Save query and match images \n",
    "images_path = results_path + \"/matched_images\"\n",
    "images_path_seq = results_path + \"/matched_images_seq\"\n",
    "os.mkdir(images_path)\n",
    "os.mkdir(images_path_seq)\n",
    "\n",
    "print('help')\n",
    "plot_match_images(images_path + \"/\", matches, training_set.place_images, testing_set.place_images)\n",
    "plot_match_images(images_path_seq + \"/\", matches_with_seq, training_set.place_images, testing_set.place_images)\n",
    "\n",
    "# Save the confusion matrices\n",
    "confusion_path = results_path + \"/confusion_matrices\"\n",
    "os.mkdir(confusion_path)\n",
    "rate = transpose(rate)\n",
    "conv = transpose(conv)\n",
    "output_path = confusion_path + \"/confusion_matrix\" \n",
    "output_path_s = confusion_path + \"/confusion_matrix_seq\" \n",
    "plot_confusion_matrix(rate, labels, annotations, output_path, vmin, vmax)\n",
    "plot_confusion_matrix(conv, labels, annotations_s, output_path_s, vmin, vmax)\n",
    "\n",
    "# Save GPS map'\n",
    "# gps_path = results_path + \"/gps_locations\"\n",
    "# plot_gps(gps_path, training_set.place_locations, testing_set.place_locations)\n",
    "\n",
    "# Save test settings and accuracy\n",
    "accuracy = accuracy/num_places\n",
    "accuracy_s = accuracy_s/num_places\n"
   ]
  },
  {
   "cell_type": "code",
   "execution_count": 7,
   "metadata": {},
   "outputs": [
    {
     "name": "stdout",
     "output_type": "stream",
     "text": [
      "The accuracy of the network is: 0.06666666666666667\n",
      "The accuracy with a sequencer is: 0.1\n"
     ]
    }
   ],
   "source": [
    "\n",
    "log_path = results_path + \"/log.txt\"\n",
    "log_string  = \"\"\"\n",
    "---- DATA SETTINGS ---- \n",
    "Training datasets = {}\n",
    "Testing datasets = {} \n",
    "# Places = {}\n",
    "Start time = {} [s]\n",
    "Place gap = {} [s]\n",
    "Place duration = {} [s]\n",
    "Samples per second = {} \n",
    "Max spikes per sample = {}\n",
    "---- NETWORK SETTINGS ---- \n",
    "Input size = {}x{} \n",
    "Threshold = {}\n",
    "---- TRAINING SETTINGS ---- \n",
    "Epochs = {}\n",
    "Batch size = {}\n",
    "---- SEQUENCER SETTINGS ----\n",
    "Sequence lengtth = {} \n",
    "---- RESULTS ----\n",
    "Accuracy = {}\n",
    "Accuracy (sequencer) = {}\n",
    "\"\"\".format(train_name,test_name,num_places,start_time,place_gap,place_duration,\n",
    "                samples_per_sec,max_spikes,input_size,input_size,threshold,epochs,\n",
    "                batch_size,sequence_length,accuracy,accuracy_s)\n",
    "f = open(log_path,'w')\n",
    "f.write(log_string)\n",
    "f.close()\n",
    "\n",
    "print(\"The accuracy of the network is: \" + str(accuracy))\n",
    "print(\"The accuracy with a sequencer is: \" + str(accuracy_s))"
   ]
  }
 ],
 "metadata": {
  "kernelspec": {
   "display_name": "Python 3.10.4 ('lavaenv')",
   "language": "python",
   "name": "python3"
  },
  "language_info": {
   "codemirror_mode": {
    "name": "ipython",
    "version": 3
   },
   "file_extension": ".py",
   "mimetype": "text/x-python",
   "name": "python",
   "nbconvert_exporter": "python",
   "pygments_lexer": "ipython3",
   "version": "3.10.4"
  },
  "orig_nbformat": 4,
  "vscode": {
   "interpreter": {
    "hash": "63e713066215dbc07efbeb034515a5b964b6ad27977c03151c829f7f04a8001d"
   }
  }
 },
 "nbformat": 4,
 "nbformat_minor": 2
}

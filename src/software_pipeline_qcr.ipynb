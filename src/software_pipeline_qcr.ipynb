{
 "cells": [
  {
   "cell_type": "markdown",
   "metadata": {},
   "source": [
    "%%% Imports"
   ]
  },
  {
   "cell_type": "code",
   "execution_count": 8,
   "metadata": {},
   "outputs": [],
   "source": [
    "\n",
    "from __future__ import annotations\n",
    "from time import time\n",
    "from QCRVPRDataset import QCRVPRDataset, QCRVPRSyncDataset\n",
    "from VPRNetwork import VPRNetwork\n",
    "from plotting import plot_confusion_matrix, plot_match_images, plot_gps\n",
    "from constants import brisbane_event_traverses, qcr_traverses, brisbane_event_traverses_aliases\n",
    "from utils import get_short_traverse_name\n",
    "\n",
    "import os, sys\n",
    "import torch\n",
    "from torch.utils.data import DataLoader\n",
    "import matplotlib.pyplot as plt\n",
    "from matplotlib import animation\n",
    "from scipy import signal\n",
    "from datetime import datetime\n",
    "\n",
    "import numpy as np\n",
    "\n",
    "import lava.lib.dl.slayer as slayer\n",
    "from lava.lib.dl.slayer.classifier import Rate\n",
    "\n",
    "from constants import synced_times"
   ]
  },
  {
   "cell_type": "code",
   "execution_count": 9,
   "metadata": {},
   "outputs": [
    {
     "name": "stdout",
     "output_type": "stream",
     "text": [
      "True\n"
     ]
    }
   ],
   "source": [
    "# Training settings\n",
    "from cgi import test\n",
    "\n",
    "\n",
    "epochs = 50\n",
    "batch_size = 10\n",
    "\n",
    "# Network settings\n",
    "input_size = 34\n",
    "threshold = 1.0\n",
    "\n",
    "# Data settings\n",
    "train_traverse = qcr_traverses[0]\n",
    "test_traverse = qcr_traverses[1]\n",
    "train_name = get_short_traverse_name(train_traverse)\n",
    "test_name = get_short_traverse_name(test_traverse)\n",
    "num_places = 82\n",
    "start_time = 0\n",
    "place_gap = 2 #164/num_places # The streams run for approximately 164 seconds \n",
    "samples_per_sec = 1000\n",
    "place_duration = 2\n",
    "max_spikes = None\n",
    "\n",
    "use_pre_synced_times = False\n",
    "incorporate_speed = False\n",
    "\n",
    "if use_pre_synced_times:\n",
    "    num_places = len(synced_times[train_traverse])\n",
    "    print(num_places)\n",
    "\n",
    "# Sequencer settings\n",
    "sequence_length = 3\n",
    "\n",
    "# Plot settings\n",
    "redo_plot = False\n",
    "vmin = 0\n",
    "vmax = 0.05\n",
    "\n",
    "def transpose( matrix):\n",
    "    if len(matrix) == 0:\n",
    "        return []\n",
    "    return [[matrix[i][j] for i in range(len(matrix))] for j in range(len(matrix[0]))]\n",
    "\n",
    "\n",
    "# Make a folder for the trained network\n",
    "trained_folder = 'Trained'\n",
    "os.makedirs(trained_folder, exist_ok=True)\n",
    "\n",
    "# Use GPU\n",
    "print(torch.cuda.is_available())\n",
    "device = torch.device('cuda')\n",
    "\n",
    "#---------------- Create the Network -----------------#\n",
    "\n",
    "# Create the network\n",
    "net = VPRNetwork(input_size, num_places, threshold=threshold).to(device)\n"
   ]
  },
  {
   "cell_type": "code",
   "execution_count": 10,
   "metadata": {},
   "outputs": [
    {
     "name": "stdout",
     "output_type": "stream",
     "text": [
      "Loading training event streams ...\n"
     ]
    },
    {
     "data": {
      "application/json": {
       "ascii": false,
       "bar_format": null,
       "colour": null,
       "elapsed": 0.011810541152954102,
       "initial": 0,
       "n": 0,
       "ncols": null,
       "nrows": null,
       "postfix": null,
       "prefix": "",
       "rate": null,
       "total": 1,
       "unit": "it",
       "unit_divisor": 1000,
       "unit_scale": false
      },
      "application/vnd.jupyter.widget-view+json": {
       "model_id": "c3caf50789444dce802724fffeb360e9",
       "version_major": 2,
       "version_minor": 0
      },
      "text/plain": [
       "  0%|          | 0/1 [00:00<?, ?it/s]"
      ]
     },
     "metadata": {},
     "output_type": "display_data"
    },
    {
     "name": "stdout",
     "output_type": "stream",
     "text": [
      "Duration: 164.20s (which is 36141275 events)\n"
     ]
    },
    {
     "name": "stderr",
     "output_type": "stream",
     "text": [
      "/home/n10223622/snn-event-vpr/src/QCRVPRDataset.py:111: SettingWithCopyWarning: \n",
      "A value is trying to be set on a copy of a slice from a DataFrame\n",
      "\n",
      "See the caveats in the documentation: https://pandas.pydata.org/pandas-docs/stable/user_guide/indexing.html#returning-a-view-versus-a-copy\n",
      "  event_stream['x'].loc[small_filt0x] = i\n",
      "/home/n10223622/snn-event-vpr/src/QCRVPRDataset.py:115: SettingWithCopyWarning: \n",
      "A value is trying to be set on a copy of a slice from a DataFrame\n",
      "\n",
      "See the caveats in the documentation: https://pandas.pydata.org/pandas-docs/stable/user_guide/indexing.html#returning-a-view-versus-a-copy\n",
      "  event_stream['y'].loc[small_filt0y] = i\n",
      "/home/n10223622/snn-event-vpr/src/QCRVPRDataset.py:50: SettingWithCopyWarning: \n",
      "A value is trying to be set on a copy of a slice from a DataFrame.\n",
      "Try using .loc[row_indexer,col_indexer] = value instead\n",
      "\n",
      "See the caveats in the documentation: https://pandas.pydata.org/pandas-docs/stable/user_guide/indexing.html#returning-a-view-versus-a-copy\n",
      "  chopped_stream['t'] -= chop_start\n"
     ]
    },
    {
     "name": "stdout",
     "output_type": "stream",
     "text": [
      "[0, 2, 4, 6, 8, 10, 12, 14, 16, 18, 20, 22, 24, 26, 28, 30, 32, 34, 36, 38, 40, 42, 44, 46, 48, 50, 52, 54, 56, 58, 60, 62, 64, 66, 68, 70, 72, 74, 76, 78, 80, 82, 84, 86, 88, 90, 92, 94, 96, 98, 100, 102, 104, 106, 108, 110, 112, 114, 116, 118, 120, 122, 124, 126, 128, 130, 132, 134, 136, 138, 140, 142, 144, 146, 148, 150, 152, 154, 156, 158, 160, 162]\n",
      "The number of training substreams is: 82\n"
     ]
    },
    {
     "data": {
      "application/json": {
       "ascii": false,
       "bar_format": null,
       "colour": null,
       "elapsed": 0.011045217514038086,
       "initial": 0,
       "n": 0,
       "ncols": null,
       "nrows": null,
       "postfix": null,
       "prefix": "",
       "rate": null,
       "total": 1,
       "unit": "it",
       "unit_divisor": 1000,
       "unit_scale": false
      },
      "application/vnd.jupyter.widget-view+json": {
       "model_id": "8be05f28d89a4529ba61e4d279f437f6",
       "version_major": 2,
       "version_minor": 0
      },
      "text/plain": [
       "  0%|          | 0/1 [00:00<?, ?it/s]"
      ]
     },
     "metadata": {},
     "output_type": "display_data"
    },
    {
     "name": "stdout",
     "output_type": "stream",
     "text": [
      "Duration: 164.20s (which is 38023723 events)\n",
      "[  0.           1.99999481   3.99998962   5.99998443   7.99997924\n",
      "   9.99997406  11.99996887  13.99996368  15.99995849  17.9999533\n",
      "  19.99994811  21.99994292  23.99993773  25.99993255  27.99992736\n",
      "  29.99992217  31.99991698  33.99991179  35.9999066   37.99990141\n",
      "  39.99989622  41.99989104  43.99988585  45.99988066  47.99987547\n",
      "  49.99987028  51.99986509  53.9998599   55.99985471  57.99984952\n",
      "  59.99984434  61.99983915  63.99983396  65.99982877  67.99982358\n",
      "  69.99981839  71.9998132   73.99980801  75.99980283  77.99979764\n",
      "  79.99979245  81.99978726  83.99978207  85.99977688  87.99977169\n",
      "  89.9997665   91.99976132  93.99975613  95.99975094  97.99974575\n",
      "  99.99974056 101.99973537 103.99973018 105.99972499 107.99971981\n",
      " 109.99971462 111.99970943 113.99970424 115.99969905 117.99969386\n",
      " 119.99968867 121.99968348 123.99967829 125.99967311 127.99966792\n",
      " 129.99966273 131.99965754 133.99965235 135.99964716 137.99964197\n",
      " 139.99963678 141.9996316  143.99962641 145.99962122 147.99961603\n",
      " 149.99961084 151.99960565 153.99960046 155.99959527 157.99959009\n",
      " 159.9995849  161.99957971]\n",
      "Place duration 2\n",
      "Speed ratio 1\n"
     ]
    },
    {
     "name": "stderr",
     "output_type": "stream",
     "text": [
      "/home/n10223622/snn-event-vpr/src/QCRVPRDataset.py:150: SettingWithCopyWarning: \n",
      "A value is trying to be set on a copy of a slice from a DataFrame\n",
      "\n",
      "See the caveats in the documentation: https://pandas.pydata.org/pandas-docs/stable/user_guide/indexing.html#returning-a-view-versus-a-copy\n",
      "  event_stream['x'].loc[small_filt0x] = i\n",
      "/home/n10223622/snn-event-vpr/src/QCRVPRDataset.py:154: SettingWithCopyWarning: \n",
      "A value is trying to be set on a copy of a slice from a DataFrame\n",
      "\n",
      "See the caveats in the documentation: https://pandas.pydata.org/pandas-docs/stable/user_guide/indexing.html#returning-a-view-versus-a-copy\n",
      "  event_stream['y'].loc[small_filt0y] = i\n"
     ]
    },
    {
     "name": "stdout",
     "output_type": "stream",
     "text": [
      "The number of testing substreams is: 82\n"
     ]
    },
    {
     "name": "stderr",
     "output_type": "stream",
     "text": [
      "/home/n10223622/snn-event-vpr/src/QCRVPRDataset.py:50: SettingWithCopyWarning: \n",
      "A value is trying to be set on a copy of a slice from a DataFrame.\n",
      "Try using .loc[row_indexer,col_indexer] = value instead\n",
      "\n",
      "See the caveats in the documentation: https://pandas.pydata.org/pandas-docs/stable/user_guide/indexing.html#returning-a-view-versus-a-copy\n",
      "  chopped_stream['t'] -= chop_start\n"
     ]
    }
   ],
   "source": [
    "# Load the data\n",
    "if use_pre_synced_times:\n",
    "    training_set = QCRVPRSyncDataset(train_traverse, train=True, place_duration = place_duration, samples_per_sec=samples_per_sec, max_spikes=max_spikes, subselect_num=input_size)\n",
    "    if incorporate_speed:\n",
    "        testing_set  = QCRVPRSyncDataset(test_traverse, train=False, place_duration = place_duration, samples_per_sec=samples_per_sec, max_spikes=max_spikes, subselect_num=input_size, training_duration=training_set.training_duration) # training_duration=training_set.training_duration\n",
    "    else:\n",
    "        testing_set  = QCRVPRSyncDataset(test_traverse, train=False, place_duration = place_duration, samples_per_sec=samples_per_sec, max_spikes=max_spikes, subselect_num=input_size)\n",
    "\n",
    "else: \n",
    "    training_set = QCRVPRDataset(train_traverse, train=True, place_duration = place_duration, place_gap=place_gap, num_places=num_places, start_time=start_time,samples_per_sec=samples_per_sec, max_spikes=max_spikes, subselect_num=input_size)\n",
    "    if incorporate_speed:\n",
    "        testing_set  = QCRVPRDataset(test_traverse, train=False, place_duration = place_duration, place_gap=place_gap, num_places=num_places, start_time=start_time, samples_per_sec=samples_per_sec, max_spikes=max_spikes, subselect_num=input_size, relative_place_times=training_set.relative_place_times, training_duration=training_set.training_duration) # training_duration=training_set.training_duration\n",
    "    else:\n",
    "        testing_set  = QCRVPRDataset(test_traverse, train=False, place_duration = place_duration, place_gap=place_gap, num_places=num_places, start_time=start_time, samples_per_sec=samples_per_sec, max_spikes=max_spikes, subselect_num=input_size, relative_place_times=training_set.relative_place_times)\n",
    "\n",
    "train_loader = DataLoader(dataset=training_set, batch_size=batch_size, shuffle=True)\n",
    "test_loader  = DataLoader(dataset=testing_set , batch_size=batch_size, shuffle=True)"
   ]
  },
  {
   "cell_type": "code",
   "execution_count": 11,
   "metadata": {},
   "outputs": [
    {
     "name": "stdout",
     "output_type": "stream",
     "text": [
      "[Epoch  0/50] Train loss =     1.03072 | Test  loss =     0.99810                        accuracy = 0.01220\n",
      "Accuracy was none\n",
      "\n",
      "Accuracy was none\n",
      "[Epoch  1/50] Train loss =     0.79608 (min =     1.03072)    accuracy = 0.02439  | Test  loss =     1.22084 (min =     0.99810)    accuracy = 0.04878 (max = 0.01220)\n",
      "Accuracy was none\n",
      "[Epoch  2/50] Train loss =     0.79561 (min =     0.79608)    accuracy = 0.02439 (max = 0.02439) | Test  loss =     0.77570 (min =     0.99810)    accuracy = 0.08537 (max = 0.04878)\n",
      "Accuracy was none\n",
      "[Epoch  3/50] Train loss =     0.72567 (min =     0.79561)    accuracy = 0.13415 (max = 0.02439) | Test  loss =     0.77962 (min =     0.77570)    accuracy = 0.13415 (max = 0.08537)\n",
      "Accuracy was none\n",
      "[Epoch  4/50] Train loss =     0.71915 (min =     0.72567)    accuracy = 0.15854 (max = 0.13415) | Test  loss =     0.75741 (min =     0.77570)    accuracy = 0.12195 (max = 0.13415)\n",
      "Accuracy was none\n",
      "[Epoch  5/50] Train loss =     0.63892 (min =     0.71915)    accuracy = 0.13415 (max = 0.15854) | Test  loss =     1.09967 (min =     0.75741)    accuracy = 0.06098 (max = 0.13415)\n",
      "Accuracy was none\n",
      "[Epoch  6/50] Train loss =     0.73100 (min =     0.63892)    accuracy = 0.19512 (max = 0.15854) | Test  loss =     0.74471 (min =     0.75741)    accuracy = 0.01220 (max = 0.13415)\n",
      "Accuracy was none\n",
      "[Epoch  7/50] Train loss =     0.62274 (min =     0.63892)    accuracy = 0.19512 (max = 0.19512) | Test  loss =     0.67615 (min =     0.74471)    accuracy = 0.12195 (max = 0.13415)\n",
      "Accuracy was none\n",
      "[Epoch  8/50] Train loss =     0.55610 (min =     0.62274)    accuracy = 0.31707 (max = 0.19512) | Test  loss =     0.72547 (min =     0.67615)    accuracy = 0.18293 (max = 0.13415)\n",
      "Accuracy was none\n",
      "[Epoch  9/50] Train loss =     0.51048 (min =     0.55610)    accuracy = 0.29268 (max = 0.31707) | Test  loss =     0.68361 (min =     0.67615)    accuracy = 0.20732 (max = 0.18293)\n",
      "Accuracy was none\n",
      "[Epoch 10/50] Train loss =     0.48200 (min =     0.51048)    accuracy = 0.40244 (max = 0.31707) | Test  loss =     0.54946 (min =     0.67615)    accuracy = 0.24390 (max = 0.20732)\n",
      "Accuracy was none\n",
      "[Epoch 11/50] Train loss =     0.44031 (min =     0.48200)    accuracy = 0.48780 (max = 0.40244) | Test  loss =     0.68370 (min =     0.54946)    accuracy = 0.23171 (max = 0.24390)\n",
      "Accuracy was none\n",
      "[Epoch 12/50] Train loss =     0.42217 (min =     0.44031)    accuracy = 0.45122 (max = 0.48780) | Test  loss =     0.54023 (min =     0.54946)    accuracy = 0.32927 (max = 0.24390)\n",
      "Accuracy was none\n",
      "[Epoch 13/50] Train loss =     0.39919 (min =     0.42217)    accuracy = 0.62195 (max = 0.48780) | Test  loss =     0.48426 (min =     0.54023)    accuracy = 0.42683 (max = 0.32927)\n",
      "Accuracy was none\n",
      "[Epoch 14/50] Train loss =     0.39151 (min =     0.39919)    accuracy = 0.60976 (max = 0.62195) | Test  loss =     0.58197 (min =     0.48426)    accuracy = 0.36585 (max = 0.42683)\n",
      "Accuracy was none\n",
      "[Epoch 15/50] Train loss =     0.36479 (min =     0.39151)    accuracy = 0.63415 (max = 0.62195) | Test  loss =     0.48857 (min =     0.48426)    accuracy = 0.30488 (max = 0.42683)\n",
      "Accuracy was none\n",
      "[Epoch 16/50] Train loss =     0.39042 (min =     0.36479)    accuracy = 0.63415 (max = 0.63415) | Test  loss =     0.46598 (min =     0.48426)    accuracy = 0.34146 (max = 0.42683)\n",
      "Accuracy was none\n",
      "[Epoch 17/50] Train loss =     0.37876 (min =     0.36479)    accuracy = 0.65854 (max = 0.63415) | Test  loss =     1.03193 (min =     0.46598)    accuracy = 0.30488 (max = 0.42683)\n",
      "Accuracy was none\n",
      "[Epoch 18/50] Train loss =     0.38853 (min =     0.36479)    accuracy = 0.65854 (max = 0.65854) | Test  loss =     0.53240 (min =     0.46598)    accuracy = 0.37805 (max = 0.42683)\n",
      "Accuracy was none\n",
      "                                                                                                                                                                                       \n",
      "[Epoch 19/50]\n",
      "Train loss =     0.38280 (min =     0.36479)    accuracy = 0.68293 (max = 0.65854) \n",
      "Test  loss =     0.50279 (min =     0.46598)    accuracy = 0.40244 (max = 0.42683)\n",
      "\n",
      "Accuracy was none\n",
      "[Epoch 20/50] Train loss =     0.38283 (min =     0.36479)    accuracy = 0.68293 (max = 0.68293) | Test  loss =     0.52855 (min =     0.46598)    accuracy = 0.26829 (max = 0.42683)\n",
      "Accuracy was none\n",
      "[Epoch 21/50] Train loss =     0.34509 (min =     0.36479)    accuracy = 0.68293 (max = 0.68293) | Test  loss =     0.57372 (min =     0.46598)    accuracy = 0.56098 (max = 0.42683)\n",
      "Accuracy was none\n",
      "[Epoch 22/50] Train loss =     0.34699 (min =     0.34509)    accuracy = 0.78049 (max = 0.68293) | Test  loss =     0.46500 (min =     0.46598)    accuracy = 0.50000 (max = 0.56098)\n",
      "Accuracy was none\n",
      "[Epoch 23/50] Train loss =     0.33040 (min =     0.34509)    accuracy = 0.81707 (max = 0.78049) | Test  loss =     0.58322 (min =     0.46500)    accuracy = 0.48780 (max = 0.56098)\n",
      "Accuracy was none\n",
      "[Epoch 24/50] Train loss =     0.28676 (min =     0.33040)    accuracy = 0.80488 (max = 0.81707) | Test  loss =     0.45346 (min =     0.46500)    accuracy = 0.60976 (max = 0.56098)\n",
      "Accuracy was none\n",
      "[Epoch 25/50] Train loss =     0.25973 (min =     0.28676)    accuracy = 0.90244 (max = 0.81707) | Test  loss =     0.43289 (min =     0.45346)    accuracy = 0.51220 (max = 0.60976)\n",
      "Accuracy was none\n",
      "[Epoch 26/50] Train loss =     0.25041 (min =     0.25973)    accuracy = 0.91463 (max = 0.90244) | Test  loss =     0.50319 (min =     0.43289)    accuracy = 0.47561 (max = 0.60976)\n",
      "Accuracy was none\n",
      "[Epoch 27/50] Train loss =     0.25375 (min =     0.25041)    accuracy = 0.86585 (max = 0.91463) | Test  loss =     0.41144 (min =     0.43289)    accuracy = 0.63415 (max = 0.60976)\n",
      "Accuracy was none\n",
      "[Epoch 28/50] Train loss =     0.25030 (min =     0.25041)    accuracy = 0.87805 (max = 0.91463) | Test  loss =     0.76089 (min =     0.41144)    accuracy = 0.65854 (max = 0.63415)\n",
      "Accuracy was none\n",
      "[Epoch 29/50] Train loss =     0.26321 (min =     0.25030)    accuracy = 0.91463 (max = 0.91463) | Test  loss =     0.42620 (min =     0.41144)    accuracy = 0.64634 (max = 0.65854)\n",
      "Accuracy was none\n",
      "[Epoch 30/50] Train loss =     0.24779 (min =     0.25030)    accuracy = 0.95122 (max = 0.91463) | Test  loss =     0.47730 (min =     0.41144)    accuracy = 0.69512 (max = 0.65854)\n",
      "Accuracy was none\n",
      "[Epoch 31/50] Train loss =     0.22303 (min =     0.24779)    accuracy = 0.95122 (max = 0.95122) | Test  loss =     0.43742 (min =     0.41144)    accuracy = 0.65854 (max = 0.69512)\n",
      "Accuracy was none\n",
      "[Epoch 32/50] Train loss =     0.22412 (min =     0.22303)    accuracy = 0.95122 (max = 0.95122) | Test  loss =     0.49967 (min =     0.41144)    accuracy = 0.65854 (max = 0.69512)\n",
      "Accuracy was none\n",
      "[Epoch 33/50] Train loss =     0.21589 (min =     0.22303)    accuracy = 0.97561 (max = 0.95122) | Test  loss =     0.41850 (min =     0.41144)    accuracy = 0.71951 (max = 0.69512)\n",
      "Accuracy was none\n",
      "[Epoch 34/50] Train loss =     0.22403 (min =     0.21589)    accuracy = 0.95122 (max = 0.97561) | Test  loss =     0.49177 (min =     0.41144)    accuracy = 0.65854 (max = 0.71951)\n",
      "Accuracy was none\n",
      "[Epoch 35/50] Train loss =     0.23274 (min =     0.21589)    accuracy = 0.95122 (max = 0.97561) | Test  loss =     0.43586 (min =     0.41144)    accuracy = 0.68293 (max = 0.71951)\n",
      "Accuracy was none\n",
      "[Epoch 36/50] Train loss =     0.20051 (min =     0.21589)    accuracy = 0.96341 (max = 0.97561) | Test  loss =     0.42365 (min =     0.41144)    accuracy = 0.64634 (max = 0.71951)\n",
      "Accuracy was none\n",
      "[Epoch 37/50] Train loss =     0.19285 (min =     0.20051)    accuracy = 0.96341 (max = 0.97561) | Test  loss =     0.45420 (min =     0.41144)    accuracy = 0.70732 (max = 0.71951)\n",
      "Accuracy was none\n",
      "[Epoch 38/50] Train loss =     0.17700 (min =     0.19285)    accuracy = 0.96341 (max = 0.97561) | Test  loss =     0.48535 (min =     0.41144)    accuracy = 0.73171 (max = 0.71951)\n",
      "Accuracy was none\n",
      "                                                                                                                                                                                       \n",
      "[Epoch 39/50]\n",
      "Train loss =     0.17769 (min =     0.17700)    accuracy = 1.00000 (max = 0.97561) \n",
      "Test  loss =     0.42360 (min =     0.41144)    accuracy = 0.75610 (max = 0.73171)\n",
      "\n",
      "Accuracy was none\n",
      "[Epoch 40/50] Train loss =     0.16403 (min =     0.17700)    accuracy = 0.97561 (max = 1.00000) | Test  loss =     0.42108 (min =     0.41144)    accuracy = 0.68293 (max = 0.75610)\n",
      "Accuracy was none\n",
      "[Epoch 41/50] Train loss =     0.15888 (min =     0.16403)    accuracy = 0.97561 (max = 1.00000) | Test  loss =     0.41850 (min =     0.41144)    accuracy = 0.69512 (max = 0.75610)\n",
      "Accuracy was none\n",
      "[Epoch 42/50] Train loss =     0.15292 (min =     0.15888)    accuracy = 0.97561 (max = 1.00000) | Test  loss =     0.39363 (min =     0.41144)    accuracy = 0.73171 (max = 0.75610)\n",
      "Accuracy was none\n",
      "[Epoch 43/50] Train loss =     0.15484 (min =     0.15292)    accuracy = 0.98780 (max = 1.00000) | Test  loss =     0.58954 (min =     0.39363)    accuracy = 0.75610 (max = 0.75610)\n",
      "Accuracy was none\n",
      "[Epoch 44/50] Train loss =     0.15683 (min =     0.15292)    accuracy = 1.00000 (max = 1.00000) | Test  loss =     0.42321 (min =     0.39363)    accuracy = 0.76829 (max = 0.75610)\n",
      "Accuracy was none\n",
      "[Epoch 45/50] Train loss =     0.14587 (min =     0.15292)    accuracy = 1.00000 (max = 1.00000) | Test  loss =     0.49994 (min =     0.39363)    accuracy = 0.78049 (max = 0.76829)\n",
      "Accuracy was none\n",
      "[Epoch 46/50] Train loss =     0.14412 (min =     0.14587)    accuracy = 0.97561 (max = 1.00000) | Test  loss =     0.50152 (min =     0.39363)    accuracy = 0.78049 (max = 0.78049)\n",
      "Accuracy was none\n",
      "[Epoch 47/50] Train loss =     0.13015 (min =     0.14412)    accuracy = 1.00000 (max = 1.00000) | Test  loss =     0.68030 (min =     0.39363)    accuracy = 0.80488 (max = 0.78049)\n",
      "Accuracy was none\n",
      "[Epoch 48/50] Train loss =     0.13669 (min =     0.13015)    accuracy = 1.00000 (max = 1.00000) | Test  loss =     0.42252 (min =     0.39363)    accuracy = 0.78049 (max = 0.80488)\n",
      "Accuracy was none\n",
      "[Epoch 49/50] Train loss =     0.13339 (min =     0.13015)    accuracy = 1.00000 (max = 1.00000) | Test  loss =     0.43907 (min =     0.39363)    accuracy = 0.76829 (max = 0.80488)\n",
      "Accuracy was none\n"
     ]
    }
   ],
   "source": [
    "# Define an optimiser \n",
    "optimizer = torch.optim.Adam(net.parameters(), lr=0.001)\n",
    "\n",
    "# Training the network\n",
    "error = slayer.loss.SpikeRate(true_rate=0.2, false_rate=0.03, reduction='sum').to(device)\n",
    "\n",
    "# Create a training assistant object\n",
    "stats = slayer.utils.LearningStats()\n",
    "assistant = slayer.utils.Assistant(net, error, optimizer, stats, classifier=slayer.classifier.Rate.predict)\n",
    "\n",
    "\n",
    "if redo_plot:\n",
    "    for i, (input, label) in enumerate(train_loader): # training loop\n",
    "        output = assistant.train(input, label)\n",
    "\n",
    "else: \n",
    "    for epoch in range(epochs):\n",
    "\n",
    "        for i, (input, label) in enumerate(train_loader): # training loop\n",
    "            output = assistant.train(input, label)\n",
    "        print(f'\\r[Epoch {epoch:2d}/{epochs}] {stats}', end='')\n",
    "\n",
    "        for i, (input, label) in enumerate(test_loader): # training loop\n",
    "            output = assistant.test(input, label)\n",
    "        print(f'\\r[Epoch {epoch:2d}/{epochs}] {stats}', end='')\n",
    "\n",
    "        if epoch%20 == 19: # cleanup display\n",
    "            print('\\r', ' '*len(f'\\r[Epoch {epoch:2d}/{epochs}] {stats}'))\n",
    "            stats_str = str(stats).replace(\"| \", \"\\n\")\n",
    "            print(f'[Epoch {epoch:2d}/{epochs}]\\n{stats_str}')\n",
    "\n",
    "        if stats.testing.best_accuracy:\n",
    "            torch.save(net.state_dict(), trained_folder + '/network.pt')\n",
    "        stats.update()\n",
    "        stats.save(trained_folder + '/')\n",
    "        net.grad_flow(trained_folder + '/')"
   ]
  },
  {
   "cell_type": "code",
   "execution_count": 12,
   "metadata": {},
   "outputs": [
    {
     "name": "stdout",
     "output_type": "stream",
     "text": [
      "(82, 82)\n"
     ]
    }
   ],
   "source": [
    "# import the best network during training \n",
    "net.load_state_dict(torch.load(trained_folder + '/network.pt'))\n",
    "net.export_hdf5(trained_folder + '/network.net')\n",
    "\n",
    "# Get the output for the input to each place\n",
    "test_loader2  = DataLoader(dataset=testing_set , batch_size=batch_size, shuffle=False)\n",
    "rate = []\n",
    "labels = []\n",
    "for i, (input, label) in enumerate(test_loader2):\n",
    "    output = net(input.to(device)) # Get network output\n",
    "    #guesses = assistant.classifier(output).cpu().data.numpy() # get the predictions \n",
    "    rate.extend(Rate.rate(output).cpu().data.numpy()) # Get the firing rates for each place \n",
    "    labels.extend(label.cpu().data.numpy()) # Get place labels\n",
    "\n",
    "\n",
    "# # Get rates in percentages of total\n",
    "# for i in range(num_places):\n",
    "#     sum = np.sum(rate[i])\n",
    "#     if sum != 0:\n",
    "#         rate[i] = np.divide(rate[i],sum)\n",
    "\n",
    "# Make confusion matrix annotations\n",
    "accuracy = 0\n",
    "matches = []\n",
    "annotations = [['' for i in range(num_places)] for j in range(num_places)]\n",
    "for qryIndex in range(num_places):\n",
    "    max_idx = np.argmax(rate[qryIndex])\n",
    "    matches.append(max_idx)\n",
    "    annotations[max_idx][qryIndex] = 'x'\n",
    "    if max_idx ==qryIndex:\n",
    "        accuracy += 1\n",
    "\n",
    "\n",
    "#--------------- Apply a sequencer ------------------#\n",
    "I = np.identity(sequence_length)\n",
    "conv = signal.convolve2d(rate, I, mode='same')\n",
    "print(np.shape(conv))\n",
    "\n",
    "# Make confusion matrix annotations\n",
    "accuracy_s = 0\n",
    "matches_with_seq = []\n",
    "annotations_s = [['' for i in range(num_places)] for j in range(num_places)]\n",
    "for qryIndex in range(num_places):\n",
    "    max_idx = np.argmax(conv[qryIndex])\n",
    "    matches_with_seq.append(max_idx)\n",
    "    annotations_s[max_idx][qryIndex] = 'x'\n",
    "    if max_idx == qryIndex:\n",
    "        accuracy_s += 1\n",
    "\n"
   ]
  },
  {
   "cell_type": "code",
   "execution_count": 13,
   "metadata": {},
   "outputs": [
    {
     "name": "stdout",
     "output_type": "stream",
     "text": [
      "help\n"
     ]
    },
    {
     "data": {
      "text/plain": [
       "<Figure size 1296x288 with 0 Axes>"
      ]
     },
     "metadata": {},
     "output_type": "display_data"
    },
    {
     "data": {
      "text/plain": [
       "<Figure size 1296x288 with 0 Axes>"
      ]
     },
     "metadata": {},
     "output_type": "display_data"
    }
   ],
   "source": [
    "\n",
    "#--------------- Save Results ------------------#\n",
    "\n",
    "# Make new folder for results\n",
    "from tracemalloc import start\n",
    "from plotting import plot_gps\n",
    "\n",
    "\n",
    "time_stamp = datetime.now().strftime('%Y-%m-%d_%H-%M-%S')\n",
    "results_path = \"./../results/\" + time_stamp\n",
    "os.mkdir(results_path)\n",
    "\n",
    "\n",
    "# Save query and match images \n",
    "images_path = results_path + \"/matched_images\"\n",
    "images_path_seq = results_path + \"/matched_images_seq\"\n",
    "os.mkdir(images_path)\n",
    "os.mkdir(images_path_seq)\n",
    "\n",
    "print('help')\n",
    "plot_match_images(images_path + \"/\", matches, training_set.place_images, testing_set.place_images)\n",
    "plot_match_images(images_path_seq + \"/\", matches_with_seq, training_set.place_images, testing_set.place_images)\n",
    "\n",
    "# Save the confusion matrices\n",
    "confusion_path = results_path + \"/confusion_matrices\"\n",
    "os.mkdir(confusion_path)\n",
    "rate = transpose(rate)\n",
    "conv = transpose(conv)\n",
    "output_path = confusion_path + \"/confusion_matrix\" \n",
    "output_path_s = confusion_path + \"/confusion_matrix_seq\" \n",
    "plot_confusion_matrix(rate, labels, annotations, output_path, vmin, vmax)\n",
    "plot_confusion_matrix(conv, labels, annotations_s, output_path_s, vmin, vmax)\n",
    "\n",
    "# Save GPS map'\n",
    "# gps_path = results_path + \"/gps_locations\"\n",
    "# plot_gps(gps_path, training_set.place_locations, testing_set.place_locations)\n",
    "\n",
    "# Save test settings and accuracy\n",
    "accuracy = accuracy/num_places\n",
    "accuracy_s = accuracy_s/num_places\n"
   ]
  },
  {
   "cell_type": "code",
   "execution_count": 14,
   "metadata": {},
   "outputs": [
    {
     "name": "stdout",
     "output_type": "stream",
     "text": [
      "The accuracy of the network is: 0.7804878048780488\n",
      "The accuracy with a sequencer is: 0.9512195121951219\n"
     ]
    }
   ],
   "source": [
    "\n",
    "log_path = results_path + \"/log.txt\"\n",
    "\n",
    "if use_pre_synced_times:\n",
    "    log_string  = \"\"\"\n",
    "    ---- DATA SETTINGS ---- \n",
    "    Training datasets = {}\n",
    "    Testing datasets = {} \n",
    "    # Places = {}\n",
    "    Using presynced times = True\n",
    "    Place duration = {} [s]\n",
    "    Samples per second = {} \n",
    "    Max spikes per sample = {}\n",
    "    Incorporate speed = {}\n",
    "    ---- NETWORK SETTINGS ---- \n",
    "    Input size = {}x{} \n",
    "    Threshold = {}\n",
    "    ---- TRAINING SETTINGS ---- \n",
    "    Epochs = {}\n",
    "    Batch size = {}\n",
    "    ---- SEQUENCER SETTINGS ----\n",
    "    Sequence lengtth = {} \n",
    "    ---- RESULTS ----\n",
    "    Accuracy = {}\n",
    "    Accuracy (sequencer) = {}\n",
    "    \"\"\".format(train_name,test_name, num_places, place_duration,\n",
    "                    samples_per_sec,max_spikes, incorporate_speed, input_size,input_size,threshold,epochs,\n",
    "                    batch_size,sequence_length,accuracy,accuracy_s)\n",
    "\n",
    "else: \n",
    "    log_string  = \"\"\"\n",
    "    ---- DATA SETTINGS ---- \n",
    "    Training datasets = {}\n",
    "    Testing datasets = {} \n",
    "    # Places = {}\n",
    "    Start time = {} [s]\n",
    "    Place gap = {} [s]\n",
    "    Place duration = {} [s]\n",
    "    Samples per second = {} \n",
    "    Max spikes per sample = {}\n",
    "    Incorporate speed = {}\n",
    "    ---- NETWORK SETTINGS ---- \n",
    "    Input size = {}x{} \n",
    "    Threshold = {}\n",
    "    ---- TRAINING SETTINGS ---- \n",
    "    Epochs = {}\n",
    "    Batch size = {}\n",
    "    ---- SEQUENCER SETTINGS ----\n",
    "    Sequence lengtth = {} \n",
    "    ---- RESULTS ----\n",
    "    Accuracy = {}\n",
    "    Accuracy (sequencer) = {}\n",
    "    \"\"\".format(train_name,test_name,num_places,start_time,place_gap,place_duration,\n",
    "                    samples_per_sec,max_spikes, incorporate_speed, input_size,input_size,threshold,epochs,\n",
    "                    batch_size,sequence_length,accuracy,accuracy_s)\n",
    "f = open(log_path,'w')\n",
    "f.write(log_string)\n",
    "f.close()\n",
    "\n",
    "print(\"The accuracy of the network is: \" + str(accuracy))\n",
    "print(\"The accuracy with a sequencer is: \" + str(accuracy_s))"
   ]
  }
 ],
 "metadata": {
  "kernelspec": {
   "display_name": "Python 3.10.4 ('lavaenv')",
   "language": "python",
   "name": "python3"
  },
  "language_info": {
   "codemirror_mode": {
    "name": "ipython",
    "version": 3
   },
   "file_extension": ".py",
   "mimetype": "text/x-python",
   "name": "python",
   "nbconvert_exporter": "python",
   "pygments_lexer": "ipython3",
   "version": "3.10.4"
  },
  "orig_nbformat": 4,
  "vscode": {
   "interpreter": {
    "hash": "63e713066215dbc07efbeb034515a5b964b6ad27977c03151c829f7f04a8001d"
   }
  }
 },
 "nbformat": 4,
 "nbformat_minor": 2
}

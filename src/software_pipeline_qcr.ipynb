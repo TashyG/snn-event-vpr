{
 "cells": [
  {
   "cell_type": "markdown",
   "metadata": {},
   "source": [
    "%%% Imports"
   ]
  },
  {
   "cell_type": "code",
   "execution_count": 24,
   "metadata": {},
   "outputs": [],
   "source": [
    "\n",
    "from __future__ import annotations\n",
    "from time import time\n",
    "from QCRVPRDataset import QCRVPRDataset\n",
    "from VPRNetwork import VPRNetwork\n",
    "from plotting import plot_confusion_matrix, plot_match_images, plot_gps\n",
    "from constants import brisbane_event_traverses, qcr_traverses, brisbane_event_traverses_aliases\n",
    "from utils import get_short_traverse_name\n",
    "\n",
    "import os, sys\n",
    "import torch\n",
    "from torch.utils.data import DataLoader\n",
    "import matplotlib.pyplot as plt\n",
    "from matplotlib import animation\n",
    "from scipy import signal\n",
    "from datetime import datetime\n",
    "\n",
    "import numpy as np\n",
    "\n",
    "import lava.lib.dl.slayer as slayer\n",
    "from lava.lib.dl.slayer.classifier import Rate\n"
   ]
  },
  {
   "cell_type": "code",
   "execution_count": 25,
   "metadata": {},
   "outputs": [
    {
     "name": "stdout",
     "output_type": "stream",
     "text": [
      "True\n"
     ]
    }
   ],
   "source": [
    "# Training settings\n",
    "from cgi import test\n",
    "\n",
    "\n",
    "epochs = 50\n",
    "batch_size = 10\n",
    "\n",
    "# Network settings\n",
    "input_size = 34\n",
    "threshold = 1.0\n",
    "\n",
    "# Data settings\n",
    "train_traverse = qcr_traverses[0]\n",
    "test_traverse = qcr_traverses[3]\n",
    "train_name = get_short_traverse_name(train_traverse)\n",
    "test_name = get_short_traverse_name(test_traverse)\n",
    "num_places = 30\n",
    "start_time = 0\n",
    "place_gap = 4 #164/num_places # The streams run for approximately 164 seconds \n",
    "samples_per_sec = 1000\n",
    "place_duration = 2\n",
    "max_spikes = None\n",
    "\n",
    "# Sequencer settings\n",
    "sequence_length = 3\n",
    "\n",
    "# Plot settings\n",
    "redo_plot = False\n",
    "vmin = 0\n",
    "vmax = 0.05\n",
    "\n",
    "def transpose( matrix):\n",
    "    if len(matrix) == 0:\n",
    "        return []\n",
    "    return [[matrix[i][j] for i in range(len(matrix))] for j in range(len(matrix[0]))]\n",
    "\n",
    "\n",
    "# Make a folder for the trained network\n",
    "trained_folder = 'Trained'\n",
    "os.makedirs(trained_folder, exist_ok=True)\n",
    "\n",
    "# Use GPU\n",
    "print(torch.cuda.is_available())\n",
    "device = torch.device('cuda')\n",
    "\n",
    "#---------------- Create the Network -----------------#\n",
    "\n",
    "# Create the network\n",
    "net = VPRNetwork(input_size, num_places, threshold=threshold).to(device)\n"
   ]
  },
  {
   "cell_type": "code",
   "execution_count": 26,
   "metadata": {},
   "outputs": [
    {
     "name": "stdout",
     "output_type": "stream",
     "text": [
      "Loading training event streams ...\n"
     ]
    },
    {
     "data": {
      "application/json": {
       "ascii": false,
       "bar_format": null,
       "colour": null,
       "elapsed": 0.011254549026489258,
       "initial": 0,
       "n": 0,
       "ncols": null,
       "nrows": null,
       "postfix": null,
       "prefix": "",
       "rate": null,
       "total": 1,
       "unit": "it",
       "unit_divisor": 1000,
       "unit_scale": false
      },
      "application/vnd.jupyter.widget-view+json": {
       "model_id": "06b123056a0b45b5babec627b4f2edce",
       "version_major": 2,
       "version_minor": 0
      },
      "text/plain": [
       "  0%|          | 0/1 [00:00<?, ?it/s]"
      ]
     },
     "metadata": {},
     "output_type": "display_data"
    },
    {
     "name": "stdout",
     "output_type": "stream",
     "text": [
      "Duration: 164.20s (which is 36141275 events)\n"
     ]
    },
    {
     "name": "stderr",
     "output_type": "stream",
     "text": [
      "/home/n10223622/snn-event-vpr/src/QCRVPRDataset.py:85: SettingWithCopyWarning: \n",
      "A value is trying to be set on a copy of a slice from a DataFrame\n",
      "\n",
      "See the caveats in the documentation: https://pandas.pydata.org/pandas-docs/stable/user_guide/indexing.html#returning-a-view-versus-a-copy\n",
      "  event_stream['x'].loc[small_filt0x] = i\n",
      "/home/n10223622/snn-event-vpr/src/QCRVPRDataset.py:89: SettingWithCopyWarning: \n",
      "A value is trying to be set on a copy of a slice from a DataFrame\n",
      "\n",
      "See the caveats in the documentation: https://pandas.pydata.org/pandas-docs/stable/user_guide/indexing.html#returning-a-view-versus-a-copy\n",
      "  event_stream['y'].loc[small_filt0y] = i\n"
     ]
    },
    {
     "name": "stdout",
     "output_type": "stream",
     "text": [
      "[0, 4, 8, 12, 16, 20, 24, 28, 32, 36, 40, 44, 48, 52, 56, 60, 64, 68, 72, 76, 80, 84, 88, 92, 96, 100, 104, 108, 112, 116]\n",
      "The number of training substreams is: 30\n"
     ]
    },
    {
     "name": "stderr",
     "output_type": "stream",
     "text": [
      "/home/n10223622/snn-event-vpr/src/QCRVPRDataset.py:50: SettingWithCopyWarning: \n",
      "A value is trying to be set on a copy of a slice from a DataFrame.\n",
      "Try using .loc[row_indexer,col_indexer] = value instead\n",
      "\n",
      "See the caveats in the documentation: https://pandas.pydata.org/pandas-docs/stable/user_guide/indexing.html#returning-a-view-versus-a-copy\n",
      "  chopped_stream['t'] -= chop_start\n"
     ]
    },
    {
     "data": {
      "application/json": {
       "ascii": false,
       "bar_format": null,
       "colour": null,
       "elapsed": 0.011306524276733398,
       "initial": 0,
       "n": 0,
       "ncols": null,
       "nrows": null,
       "postfix": null,
       "prefix": "",
       "rate": null,
       "total": 1,
       "unit": "it",
       "unit_divisor": 1000,
       "unit_scale": false
      },
      "application/vnd.jupyter.widget-view+json": {
       "model_id": "eb9c862181f04546903aba96da26d0b0",
       "version_major": 2,
       "version_minor": 0
      },
      "text/plain": [
       "  0%|          | 0/1 [00:00<?, ?it/s]"
      ]
     },
     "metadata": {},
     "output_type": "display_data"
    },
    {
     "name": "stdout",
     "output_type": "stream",
     "text": [
      "Duration: 71.37s (which is 37397552 events)\n",
      "[ 0.          1.73857272  3.47714544  5.21571816  6.95429089  8.69286361\n",
      " 10.43143633 12.17000905 13.90858177 15.64715449 17.38572721 19.12429994\n",
      " 20.86287266 22.60144538 24.3400181  26.07859082 27.81716354 29.55573626\n",
      " 31.29430899 33.03288171 34.77145443 36.51002715 38.24859987 39.98717259\n",
      " 41.72574531 43.46431804 45.20289076 46.94146348 48.6800362  50.41860892]\n"
     ]
    },
    {
     "name": "stderr",
     "output_type": "stream",
     "text": [
      "/home/n10223622/snn-event-vpr/src/QCRVPRDataset.py:124: SettingWithCopyWarning: \n",
      "A value is trying to be set on a copy of a slice from a DataFrame\n",
      "\n",
      "See the caveats in the documentation: https://pandas.pydata.org/pandas-docs/stable/user_guide/indexing.html#returning-a-view-versus-a-copy\n",
      "  event_stream['x'].loc[small_filt0x] = i\n",
      "/home/n10223622/snn-event-vpr/src/QCRVPRDataset.py:128: SettingWithCopyWarning: \n",
      "A value is trying to be set on a copy of a slice from a DataFrame\n",
      "\n",
      "See the caveats in the documentation: https://pandas.pydata.org/pandas-docs/stable/user_guide/indexing.html#returning-a-view-versus-a-copy\n",
      "  event_stream['y'].loc[small_filt0y] = i\n"
     ]
    },
    {
     "name": "stdout",
     "output_type": "stream",
     "text": [
      "The number of testing substreams is: 30\n"
     ]
    },
    {
     "name": "stderr",
     "output_type": "stream",
     "text": [
      "/home/n10223622/snn-event-vpr/src/QCRVPRDataset.py:50: SettingWithCopyWarning: \n",
      "A value is trying to be set on a copy of a slice from a DataFrame.\n",
      "Try using .loc[row_indexer,col_indexer] = value instead\n",
      "\n",
      "See the caveats in the documentation: https://pandas.pydata.org/pandas-docs/stable/user_guide/indexing.html#returning-a-view-versus-a-copy\n",
      "  chopped_stream['t'] -= chop_start\n"
     ]
    }
   ],
   "source": [
    "# Load the data\n",
    "training_set = QCRVPRDataset(train_traverse, train=True, place_duration = place_duration, place_gap=place_gap, num_places=num_places, start_time=start_time,samples_per_sec=samples_per_sec, max_spikes=max_spikes, subselect_num=input_size)\n",
    "testing_set  = QCRVPRDataset(test_traverse, train=False, place_duration = place_duration, place_gap=place_gap, num_places=num_places, start_time=start_time, samples_per_sec=samples_per_sec, max_spikes=max_spikes, subselect_num=input_size, relative_place_times=training_set.relative_place_times)\n",
    "            \n",
    "train_loader = DataLoader(dataset=training_set, batch_size=batch_size, shuffle=True)\n",
    "test_loader  = DataLoader(dataset=testing_set , batch_size=batch_size, shuffle=True)"
   ]
  },
  {
   "cell_type": "code",
   "execution_count": 27,
   "metadata": {},
   "outputs": [
    {
     "name": "stdout",
     "output_type": "stream",
     "text": [
      "[Epoch  0/50] Train loss =     0.59471 | Test  loss =     9.38670                        accuracy = 0.06667\n",
      "Accuracy was none\n",
      "\n",
      "Accuracy was none\n",
      "[Epoch  1/50] Train loss =     0.87614 (min =     0.59471)    accuracy = 0.06667  | Test  loss =     0.84392 (min =     9.38670)    accuracy = 0.03333 (max = 0.06667)\n",
      "Accuracy was none\n",
      "[Epoch  2/50] Train loss =     0.52524 (min =     0.59471)    accuracy = 0.16667 (max = 0.06667) | Test  loss =     1.29186 (min =     0.84392)    accuracy = 0.06667 (max = 0.06667)\n",
      "Accuracy was none\n",
      "[Epoch  3/50] Train loss =     0.43338 (min =     0.52524)    accuracy = 0.40000 (max = 0.16667) | Test  loss =     3.15293 (min =     0.84392)    accuracy = 0.13333 (max = 0.06667)\n",
      "Accuracy was none\n",
      "[Epoch  4/50] Train loss =     0.39895 (min =     0.43338)    accuracy = 0.40000 (max = 0.40000) | Test  loss =     2.41111 (min =     0.84392)    accuracy = 0.16667 (max = 0.13333)\n",
      "Accuracy was none\n",
      "[Epoch  5/50] Train loss =     0.34611 (min =     0.39895)    accuracy = 0.56667 (max = 0.40000) | Test  loss =     1.76385 (min =     0.84392)    accuracy = 0.03333 (max = 0.16667)\n",
      "Accuracy was none\n",
      "[Epoch  6/50] Train loss =     0.31529 (min =     0.34611)    accuracy = 0.53333 (max = 0.56667) | Test  loss =     2.36353 (min =     0.84392)    accuracy = 0.06667 (max = 0.16667)\n",
      "Accuracy was none\n",
      "[Epoch  7/50] Train loss =     0.28095 (min =     0.31529)    accuracy = 0.80000 (max = 0.56667) | Test  loss =     2.20746 (min =     0.84392)    accuracy = 0.10000 (max = 0.16667)\n",
      "Accuracy was none\n",
      "[Epoch  8/50] Train loss =     0.25124 (min =     0.28095)    accuracy = 0.86667 (max = 0.80000) | Test  loss =     2.54017 (min =     0.84392)    accuracy = 0.13333 (max = 0.16667)\n",
      "Accuracy was none\n",
      "[Epoch  9/50] Train loss =     0.22996 (min =     0.25124)    accuracy = 0.90000 (max = 0.86667) | Test  loss =     2.34935 (min =     0.84392)    accuracy = 0.16667 (max = 0.16667)\n",
      "Accuracy was none\n",
      "[Epoch 10/50] Train loss =     0.21259 (min =     0.22996)    accuracy = 0.93333 (max = 0.90000) | Test  loss =     2.31923 (min =     0.84392)    accuracy = 0.13333 (max = 0.16667)\n",
      "Accuracy was none\n",
      "[Epoch 11/50] Train loss =     0.17614 (min =     0.21259)    accuracy = 1.00000 (max = 0.93333) | Test  loss =     2.08714 (min =     0.84392)    accuracy = 0.13333 (max = 0.16667)\n",
      "Accuracy was none\n",
      "[Epoch 12/50] Train loss =     0.16790 (min =     0.17614)    accuracy = 1.00000 (max = 1.00000) | Test  loss =     2.42570 (min =     0.84392)    accuracy = 0.26667 (max = 0.16667)\n",
      "Accuracy was none\n",
      "[Epoch 13/50] Train loss =     0.15732 (min =     0.16790)    accuracy = 1.00000 (max = 1.00000) | Test  loss =     2.46017 (min =     0.84392)    accuracy = 0.16667 (max = 0.26667)\n",
      "Accuracy was none\n",
      "[Epoch 14/50] Train loss =     0.13771 (min =     0.15732)    accuracy = 1.00000 (max = 1.00000) | Test  loss =     1.77484 (min =     0.84392)    accuracy = 0.16667 (max = 0.26667)\n",
      "Accuracy was none\n",
      "[Epoch 15/50] Train loss =     0.11996 (min =     0.13771)    accuracy = 1.00000 (max = 1.00000) | Test  loss =     2.50000 (min =     0.84392)    accuracy = 0.23333 (max = 0.26667)\n",
      "Accuracy was none\n",
      "[Epoch 16/50] Train loss =     0.11318 (min =     0.11996)    accuracy = 1.00000 (max = 1.00000) | Test  loss =     1.90242 (min =     0.84392)    accuracy = 0.26667 (max = 0.26667)\n",
      "Accuracy was none\n",
      "[Epoch 17/50] Train loss =     0.09947 (min =     0.11318)    accuracy = 1.00000 (max = 1.00000) | Test  loss =     2.05688 (min =     0.84392)    accuracy = 0.16667 (max = 0.26667)\n",
      "Accuracy was none\n",
      "[Epoch 18/50] Train loss =     0.08769 (min =     0.09947)    accuracy = 1.00000 (max = 1.00000) | Test  loss =     2.49599 (min =     0.84392)    accuracy = 0.20000 (max = 0.26667)\n",
      "Accuracy was none\n",
      "                                                                                                                                                                                       \n",
      "[Epoch 19/50]\n",
      "Train loss =     0.07946 (min =     0.08769)    accuracy = 1.00000 (max = 1.00000) \n",
      "Test  loss =     1.49085 (min =     0.84392)    accuracy = 0.26667 (max = 0.26667)\n",
      "\n",
      "Accuracy was none\n",
      "[Epoch 20/50] Train loss =     0.06829 (min =     0.07946)    accuracy = 1.00000 (max = 1.00000) | Test  loss =     2.83197 (min =     0.84392)    accuracy = 0.13333 (max = 0.26667)\n",
      "Accuracy was none\n",
      "[Epoch 21/50] Train loss =     0.05947 (min =     0.06829)    accuracy = 1.00000 (max = 1.00000) | Test  loss =     1.64890 (min =     0.84392)    accuracy = 0.26667 (max = 0.26667)\n",
      "Accuracy was none\n",
      "[Epoch 22/50] Train loss =     0.05426 (min =     0.05947)    accuracy = 1.00000 (max = 1.00000) | Test  loss =     2.46001 (min =     0.84392)    accuracy = 0.26667 (max = 0.26667)\n",
      "Accuracy was none\n",
      "[Epoch 23/50] Train loss =     0.04812 (min =     0.05426)    accuracy = 1.00000 (max = 1.00000) | Test  loss =     1.79870 (min =     0.84392)    accuracy = 0.23333 (max = 0.26667)\n",
      "Accuracy was none\n",
      "[Epoch 24/50] Train loss =     0.04230 (min =     0.04812)    accuracy = 1.00000 (max = 1.00000) | Test  loss =     1.97343 (min =     0.84392)    accuracy = 0.23333 (max = 0.26667)\n",
      "Accuracy was none\n",
      "[Epoch 25/50] Train loss =     0.03989 (min =     0.04230)    accuracy = 1.00000 (max = 1.00000) | Test  loss =     2.13191 (min =     0.84392)    accuracy = 0.36667 (max = 0.26667)\n",
      "Accuracy was none\n",
      "[Epoch 26/50] Train loss =     0.03714 (min =     0.03989)    accuracy = 1.00000 (max = 1.00000) | Test  loss =     1.82261 (min =     0.84392)    accuracy = 0.26667 (max = 0.36667)\n",
      "Accuracy was none\n",
      "[Epoch 27/50] Train loss =     0.03147 (min =     0.03714)    accuracy = 1.00000 (max = 1.00000) | Test  loss =     2.33631 (min =     0.84392)    accuracy = 0.20000 (max = 0.36667)\n",
      "Accuracy was none\n",
      "[Epoch 28/50] Train loss =     0.02902 (min =     0.03147)    accuracy = 1.00000 (max = 1.00000) | Test  loss =     1.73665 (min =     0.84392)    accuracy = 0.23333 (max = 0.36667)\n",
      "Accuracy was none\n",
      "[Epoch 29/50] Train loss =     0.02515 (min =     0.02902)    accuracy = 1.00000 (max = 1.00000) | Test  loss =     2.19259 (min =     0.84392)    accuracy = 0.30000 (max = 0.36667)\n",
      "Accuracy was none\n",
      "[Epoch 30/50] Train loss =     0.02351 (min =     0.02515)    accuracy = 1.00000 (max = 1.00000) | Test  loss =     2.08422 (min =     0.84392)    accuracy = 0.20000 (max = 0.36667)\n",
      "Accuracy was none\n",
      "[Epoch 31/50] Train loss =     0.02501 (min =     0.02351)    accuracy = 1.00000 (max = 1.00000) | Test  loss =     2.18427 (min =     0.84392)    accuracy = 0.23333 (max = 0.36667)\n",
      "Accuracy was none\n",
      "[Epoch 32/50] Train loss =     0.02245 (min =     0.02351)    accuracy = 1.00000 (max = 1.00000) | Test  loss =     2.05242 (min =     0.84392)    accuracy = 0.26667 (max = 0.36667)\n",
      "Accuracy was none\n",
      "[Epoch 33/50] Train loss =     0.02085 (min =     0.02245)    accuracy = 1.00000 (max = 1.00000) | Test  loss =     2.22303 (min =     0.84392)    accuracy = 0.23333 (max = 0.36667)\n",
      "Accuracy was none\n",
      "[Epoch 34/50] Train loss =     0.01970 (min =     0.02085)    accuracy = 1.00000 (max = 1.00000) | Test  loss =     1.94978 (min =     0.84392)    accuracy = 0.20000 (max = 0.36667)\n",
      "Accuracy was none\n",
      "[Epoch 35/50] Train loss =     0.02142 (min =     0.01970)    accuracy = 1.00000 (max = 1.00000) | Test  loss =     2.31013 (min =     0.84392)    accuracy = 0.20000 (max = 0.36667)\n",
      "Accuracy was none\n",
      "[Epoch 36/50] Train loss =     0.02214 (min =     0.01970)    accuracy = 1.00000 (max = 1.00000) | Test  loss =     1.73563 (min =     0.84392)    accuracy = 0.26667 (max = 0.36667)\n",
      "Accuracy was none\n",
      "[Epoch 37/50] Train loss =     0.01800 (min =     0.01970)    accuracy = 1.00000 (max = 1.00000) | Test  loss =     2.24631 (min =     0.84392)    accuracy = 0.20000 (max = 0.36667)\n",
      "Accuracy was none\n",
      "[Epoch 38/50] Train loss =     0.01908 (min =     0.01800)    accuracy = 1.00000 (max = 1.00000) | Test  loss =     1.85046 (min =     0.84392)    accuracy = 0.20000 (max = 0.36667)\n",
      "Accuracy was none\n",
      "                                                                                                                                                                                       \n",
      "[Epoch 39/50]\n",
      "Train loss =     0.01929 (min =     0.01800)    accuracy = 1.00000 (max = 1.00000) \n",
      "Test  loss =     2.36812 (min =     0.84392)    accuracy = 0.16667 (max = 0.36667)\n",
      "\n",
      "Accuracy was none\n",
      "[Epoch 40/50] Train loss =     0.01962 (min =     0.01800)    accuracy = 1.00000 (max = 1.00000) | Test  loss =     1.87424 (min =     0.84392)    accuracy = 0.26667 (max = 0.36667)\n",
      "Accuracy was none\n",
      "[Epoch 41/50] Train loss =     0.02173 (min =     0.01800)    accuracy = 1.00000 (max = 1.00000) | Test  loss =     2.30453 (min =     0.84392)    accuracy = 0.20000 (max = 0.36667)\n",
      "Accuracy was none\n",
      "[Epoch 42/50] Train loss =     0.02104 (min =     0.01800)    accuracy = 1.00000 (max = 1.00000) | Test  loss =     1.83427 (min =     0.84392)    accuracy = 0.26667 (max = 0.36667)\n",
      "Accuracy was none\n",
      "[Epoch 43/50] Train loss =     0.01730 (min =     0.01800)    accuracy = 1.00000 (max = 1.00000) | Test  loss =     2.06574 (min =     0.84392)    accuracy = 0.20000 (max = 0.36667)\n",
      "Accuracy was none\n",
      "[Epoch 44/50] Train loss =     0.01779 (min =     0.01730)    accuracy = 1.00000 (max = 1.00000) | Test  loss =     1.74783 (min =     0.84392)    accuracy = 0.23333 (max = 0.36667)\n",
      "Accuracy was none\n",
      "[Epoch 45/50] Train loss =     0.01635 (min =     0.01730)    accuracy = 1.00000 (max = 1.00000) | Test  loss =     2.04515 (min =     0.84392)    accuracy = 0.16667 (max = 0.36667)\n",
      "Accuracy was none\n",
      "[Epoch 46/50] Train loss =     0.01699 (min =     0.01635)    accuracy = 1.00000 (max = 1.00000) | Test  loss =     1.84287 (min =     0.84392)    accuracy = 0.16667 (max = 0.36667)\n",
      "Accuracy was none\n",
      "[Epoch 47/50] Train loss =     0.01759 (min =     0.01635)    accuracy = 1.00000 (max = 1.00000) | Test  loss =     2.03487 (min =     0.84392)    accuracy = 0.23333 (max = 0.36667)\n",
      "Accuracy was none\n",
      "[Epoch 48/50] Train loss =     0.01897 (min =     0.01635)    accuracy = 1.00000 (max = 1.00000) | Test  loss =     1.99587 (min =     0.84392)    accuracy = 0.23333 (max = 0.36667)\n",
      "Accuracy was none\n",
      "[Epoch 49/50] Train loss =     0.01805 (min =     0.01635)    accuracy = 1.00000 (max = 1.00000) | Test  loss =     2.07350 (min =     0.84392)    accuracy = 0.23333 (max = 0.36667)\n",
      "Accuracy was none\n"
     ]
    }
   ],
   "source": [
    "# Define an optimiser \n",
    "optimizer = torch.optim.Adam(net.parameters(), lr=0.001)\n",
    "\n",
    "# Training the network\n",
    "error = slayer.loss.SpikeRate(true_rate=0.2, false_rate=0.03, reduction='sum').to(device)\n",
    "\n",
    "# Create a training assistant object\n",
    "stats = slayer.utils.LearningStats()\n",
    "assistant = slayer.utils.Assistant(net, error, optimizer, stats, classifier=slayer.classifier.Rate.predict)\n",
    "\n",
    "\n",
    "if redo_plot:\n",
    "    for i, (input, label) in enumerate(train_loader): # training loop\n",
    "        output = assistant.train(input, label)\n",
    "\n",
    "else: \n",
    "    for epoch in range(epochs):\n",
    "\n",
    "        for i, (input, label) in enumerate(train_loader): # training loop\n",
    "            output = assistant.train(input, label)\n",
    "        print(f'\\r[Epoch {epoch:2d}/{epochs}] {stats}', end='')\n",
    "\n",
    "        for i, (input, label) in enumerate(test_loader): # training loop\n",
    "            output = assistant.test(input, label)\n",
    "        print(f'\\r[Epoch {epoch:2d}/{epochs}] {stats}', end='')\n",
    "\n",
    "        if epoch%20 == 19: # cleanup display\n",
    "            print('\\r', ' '*len(f'\\r[Epoch {epoch:2d}/{epochs}] {stats}'))\n",
    "            stats_str = str(stats).replace(\"| \", \"\\n\")\n",
    "            print(f'[Epoch {epoch:2d}/{epochs}]\\n{stats_str}')\n",
    "\n",
    "        if stats.testing.best_accuracy:\n",
    "            torch.save(net.state_dict(), trained_folder + '/network.pt')\n",
    "        stats.update()\n",
    "        stats.save(trained_folder + '/')\n",
    "        net.grad_flow(trained_folder + '/')"
   ]
  },
  {
   "cell_type": "code",
   "execution_count": 28,
   "metadata": {},
   "outputs": [
    {
     "name": "stdout",
     "output_type": "stream",
     "text": [
      "(30, 30)\n"
     ]
    }
   ],
   "source": [
    "# import the best network during training \n",
    "net.load_state_dict(torch.load(trained_folder + '/network.pt'))\n",
    "net.export_hdf5(trained_folder + '/network.net')\n",
    "\n",
    "# Get the output for the input to each place\n",
    "test_loader2  = DataLoader(dataset=testing_set , batch_size=batch_size, shuffle=False)\n",
    "rate = []\n",
    "labels = []\n",
    "for i, (input, label) in enumerate(test_loader2):\n",
    "    output = net(input.to(device)) # Get network output\n",
    "    #guesses = assistant.classifier(output).cpu().data.numpy() # get the predictions \n",
    "    rate.extend(Rate.rate(output).cpu().data.numpy()) # Get the firing rates for each place \n",
    "    labels.extend(label.cpu().data.numpy()) # Get place labels\n",
    "\n",
    "\n",
    "# # Get rates in percentages of total\n",
    "# for i in range(num_places):\n",
    "#     sum = np.sum(rate[i])\n",
    "#     if sum != 0:\n",
    "#         rate[i] = np.divide(rate[i],sum)\n",
    "\n",
    "# Make confusion matrix annotations\n",
    "accuracy = 0\n",
    "matches = []\n",
    "annotations = [['' for i in range(num_places)] for j in range(num_places)]\n",
    "for qryIndex in range(num_places):\n",
    "    max_idx = np.argmax(rate[qryIndex])\n",
    "    matches.append(max_idx)\n",
    "    annotations[max_idx][qryIndex] = 'x'\n",
    "    if max_idx ==qryIndex:\n",
    "        accuracy += 1\n",
    "\n",
    "\n",
    "#--------------- Apply a sequencer ------------------#\n",
    "I = np.identity(sequence_length)\n",
    "conv = signal.convolve2d(rate, I, mode='same')\n",
    "print(np.shape(conv))\n",
    "\n",
    "# Make confusion matrix annotations\n",
    "accuracy_s = 0\n",
    "matches_with_seq = []\n",
    "annotations_s = [['' for i in range(num_places)] for j in range(num_places)]\n",
    "for qryIndex in range(num_places):\n",
    "    max_idx = np.argmax(conv[qryIndex])\n",
    "    matches_with_seq.append(max_idx)\n",
    "    annotations_s[max_idx][qryIndex] = 'x'\n",
    "    if max_idx == qryIndex:\n",
    "        accuracy_s += 1\n",
    "\n"
   ]
  },
  {
   "cell_type": "code",
   "execution_count": 29,
   "metadata": {},
   "outputs": [
    {
     "name": "stdout",
     "output_type": "stream",
     "text": [
      "help\n"
     ]
    },
    {
     "data": {
      "text/plain": [
       "<Figure size 1296x288 with 0 Axes>"
      ]
     },
     "metadata": {},
     "output_type": "display_data"
    },
    {
     "data": {
      "text/plain": [
       "<Figure size 1296x288 with 0 Axes>"
      ]
     },
     "metadata": {},
     "output_type": "display_data"
    }
   ],
   "source": [
    "\n",
    "#--------------- Save Results ------------------#\n",
    "\n",
    "# Make new folder for results\n",
    "from tracemalloc import start\n",
    "from plotting import plot_gps\n",
    "\n",
    "\n",
    "time_stamp = datetime.now().strftime('%Y-%m-%d_%H-%M-%S')\n",
    "results_path = \"./../results/\" + time_stamp\n",
    "os.mkdir(results_path)\n",
    "\n",
    "\n",
    "# Save query and match images \n",
    "images_path = results_path + \"/matched_images\"\n",
    "images_path_seq = results_path + \"/matched_images_seq\"\n",
    "os.mkdir(images_path)\n",
    "os.mkdir(images_path_seq)\n",
    "\n",
    "print('help')\n",
    "plot_match_images(images_path + \"/\", matches, training_set.place_images, testing_set.place_images)\n",
    "plot_match_images(images_path_seq + \"/\", matches_with_seq, training_set.place_images, testing_set.place_images)\n",
    "\n",
    "# Save the confusion matrices\n",
    "confusion_path = results_path + \"/confusion_matrices\"\n",
    "os.mkdir(confusion_path)\n",
    "rate = transpose(rate)\n",
    "conv = transpose(conv)\n",
    "output_path = confusion_path + \"/confusion_matrix\" \n",
    "output_path_s = confusion_path + \"/confusion_matrix_seq\" \n",
    "plot_confusion_matrix(rate, labels, annotations, output_path, vmin, vmax)\n",
    "plot_confusion_matrix(conv, labels, annotations_s, output_path_s, vmin, vmax)\n",
    "\n",
    "# Save GPS map'\n",
    "# gps_path = results_path + \"/gps_locations\"\n",
    "# plot_gps(gps_path, training_set.place_locations, testing_set.place_locations)\n",
    "\n",
    "# Save test settings and accuracy\n",
    "accuracy = accuracy/num_places\n",
    "accuracy_s = accuracy_s/num_places\n"
   ]
  },
  {
   "cell_type": "code",
   "execution_count": 30,
   "metadata": {},
   "outputs": [
    {
     "name": "stdout",
     "output_type": "stream",
     "text": [
      "The accuracy of the network is: 0.26666666666666666\n",
      "The accuracy with a sequencer is: 0.3333333333333333\n"
     ]
    }
   ],
   "source": [
    "\n",
    "log_path = results_path + \"/log.txt\"\n",
    "log_string  = \"\"\"\n",
    "---- DATA SETTINGS ---- \n",
    "Training datasets = {}\n",
    "Testing datasets = {} \n",
    "# Places = {}\n",
    "Start time = {} [s]\n",
    "Place gap = {} [s]\n",
    "Place duration = {} [s]\n",
    "Samples per second = {} \n",
    "Max spikes per sample = {}\n",
    "---- NETWORK SETTINGS ---- \n",
    "Input size = {}x{} \n",
    "Threshold = {}\n",
    "---- TRAINING SETTINGS ---- \n",
    "Epochs = {}\n",
    "Batch size = {}\n",
    "---- SEQUENCER SETTINGS ----\n",
    "Sequence lengtth = {} \n",
    "---- RESULTS ----\n",
    "Accuracy = {}\n",
    "Accuracy (sequencer) = {}\n",
    "\"\"\".format(train_name,test_name,num_places,start_time,place_gap,place_duration,\n",
    "                samples_per_sec,max_spikes,input_size,input_size,threshold,epochs,\n",
    "                batch_size,sequence_length,accuracy,accuracy_s)\n",
    "f = open(log_path,'w')\n",
    "f.write(log_string)\n",
    "f.close()\n",
    "\n",
    "print(\"The accuracy of the network is: \" + str(accuracy))\n",
    "print(\"The accuracy with a sequencer is: \" + str(accuracy_s))"
   ]
  }
 ],
 "metadata": {
  "kernelspec": {
   "display_name": "Python 3.10.4 ('lavaenv')",
   "language": "python",
   "name": "python3"
  },
  "language_info": {
   "codemirror_mode": {
    "name": "ipython",
    "version": 3
   },
   "file_extension": ".py",
   "mimetype": "text/x-python",
   "name": "python",
   "nbconvert_exporter": "python",
   "pygments_lexer": "ipython3",
   "version": "3.10.4"
  },
  "orig_nbformat": 4,
  "vscode": {
   "interpreter": {
    "hash": "63e713066215dbc07efbeb034515a5b964b6ad27977c03151c829f7f04a8001d"
   }
  }
 },
 "nbformat": 4,
 "nbformat_minor": 2
}

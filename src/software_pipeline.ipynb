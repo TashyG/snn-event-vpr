{
 "cells": [
  {
   "cell_type": "markdown",
   "metadata": {},
   "source": [
    "%%% Imports"
   ]
  },
  {
   "cell_type": "code",
   "execution_count": 1,
   "metadata": {},
   "outputs": [],
   "source": [
    "\n",
    "from __future__ import annotations\n",
    "from time import time\n",
    "from BrisbaneVPRDatasetSpeed import BrisbaneVPRDatasetSpeed\n",
    "from VPRNetwork import VPRNetwork\n",
    "from plotting import plot_confusion_matrix, plot_match_images, plot_gps\n",
    "from constants import brisbane_event_traverses, brisbane_event_traverses_aliases\n",
    "from utils import get_short_traverse_name\n",
    "\n",
    "import os, sys\n",
    "import torch\n",
    "from torch.utils.data import DataLoader\n",
    "import matplotlib.pyplot as plt\n",
    "from matplotlib import animation\n",
    "from scipy import signal\n",
    "from datetime import datetime\n",
    "\n",
    "import numpy as np\n",
    "\n",
    "import lava.lib.dl.slayer as slayer\n",
    "from lava.lib.dl.slayer.classifier import Rate\n"
   ]
  },
  {
   "cell_type": "code",
   "execution_count": 2,
   "metadata": {},
   "outputs": [
    {
     "name": "stdout",
     "output_type": "stream",
     "text": [
      "True\n"
     ]
    }
   ],
   "source": [
    "# Training settings\n",
    "from cgi import test\n",
    "\n",
    "\n",
    "epochs = 50\n",
    "batch_size = 10\n",
    "\n",
    "# Network settings\n",
    "input_size = 34\n",
    "threshold = 1.0\n",
    "\n",
    "# Data settings\n",
    "train_traverse = brisbane_event_traverses[0]\n",
    "test_traverse = brisbane_event_traverses[1]\n",
    "train_name = brisbane_event_traverses_aliases[get_short_traverse_name(train_traverse)]\n",
    "test_name = brisbane_event_traverses_aliases[get_short_traverse_name(test_traverse)]\n",
    "num_places = 30\n",
    "start_time = 50\n",
    "place_gap = 10 #164/num_places # The streams run for approximately 164 seconds \n",
    "samples_per_sec = 1000\n",
    "place_duration = 2\n",
    "max_spikes = None\n",
    "\n",
    "# Sequencer settings\n",
    "sequence_length = 3\n",
    "\n",
    "# Plot settings\n",
    "redo_plot = False\n",
    "vmin = 0\n",
    "vmax = 0.05\n",
    "\n",
    "def transpose( matrix):\n",
    "    if len(matrix) == 0:\n",
    "        return []\n",
    "    return [[matrix[i][j] for i in range(len(matrix))] for j in range(len(matrix[0]))]\n",
    "\n",
    "\n",
    "# Make a folder for the trained network\n",
    "trained_folder = 'Trained'\n",
    "os.makedirs(trained_folder, exist_ok=True)\n",
    "\n",
    "# Use GPU\n",
    "print(torch.cuda.is_available())\n",
    "device = torch.device('cuda')\n",
    "\n",
    "#---------------- Create the Network -----------------#\n",
    "\n",
    "# Create the network\n",
    "net = VPRNetwork(input_size, num_places, threshold=threshold).to(device)\n"
   ]
  },
  {
   "cell_type": "code",
   "execution_count": 3,
   "metadata": {},
   "outputs": [
    {
     "name": "stdout",
     "output_type": "stream",
     "text": [
      "Loading training event streams ...\n",
      "Adding GPS\n",
      "Adding GPS\n"
     ]
    },
    {
     "data": {
      "application/json": {
       "ascii": false,
       "bar_format": null,
       "colour": null,
       "elapsed": 0.014116048812866211,
       "initial": 0,
       "n": 0,
       "ncols": null,
       "nrows": null,
       "postfix": null,
       "prefix": "",
       "rate": null,
       "total": 1,
       "unit": "it",
       "unit_divisor": 1000,
       "unit_scale": false
      },
      "application/vnd.jupyter.widget-view+json": {
       "model_id": "2d0b8e7989b848f7a35c76421b5a3ca4",
       "version_major": 2,
       "version_minor": 0
      },
      "text/plain": [
       "  0%|          | 0/1 [00:00<?, ?it/s]"
      ]
     },
     "metadata": {},
     "output_type": "display_data"
    },
    {
     "name": "stdout",
     "output_type": "stream",
     "text": [
      "Duration: 527.16s (which is 267028797 events)\n"
     ]
    },
    {
     "name": "stderr",
     "output_type": "stream",
     "text": [
      "/home/n10223622/snn-event-vpr/src/BrisbaneVPRDatasetSpeed.py:92: SettingWithCopyWarning: \n",
      "A value is trying to be set on a copy of a slice from a DataFrame\n",
      "\n",
      "See the caveats in the documentation: https://pandas.pydata.org/pandas-docs/stable/user_guide/indexing.html#returning-a-view-versus-a-copy\n",
      "  event_stream['x'].loc[small_filt0x] = i\n",
      "/home/n10223622/snn-event-vpr/src/BrisbaneVPRDatasetSpeed.py:96: SettingWithCopyWarning: \n",
      "A value is trying to be set on a copy of a slice from a DataFrame\n",
      "\n",
      "See the caveats in the documentation: https://pandas.pydata.org/pandas-docs/stable/user_guide/indexing.html#returning-a-view-versus-a-copy\n",
      "  event_stream['y'].loc[small_filt0y] = i\n",
      "/home/n10223622/snn-event-vpr/src/BrisbaneVPRDatasetSpeed.py:57: SettingWithCopyWarning: \n",
      "A value is trying to be set on a copy of a slice from a DataFrame.\n",
      "Try using .loc[row_indexer,col_indexer] = value instead\n",
      "\n",
      "See the caveats in the documentation: https://pandas.pydata.org/pandas-docs/stable/user_guide/indexing.html#returning-a-view-versus-a-copy\n",
      "  chopped_stream['t'] -= chop_start\n"
     ]
    },
    {
     "name": "stdout",
     "output_type": "stream",
     "text": [
      "[[4.9440e+01 5.0000e+01]\n",
      " [4.7346e+01 6.0000e+01]\n",
      " [4.5667e+01 7.0000e+01]\n",
      " [3.0662e+01 8.0000e+01]\n",
      " [5.3345e+01 9.0000e+01]\n",
      " [5.2011e+01 1.0000e+02]\n",
      " [5.8582e+01 1.1000e+02]\n",
      " [5.4396e+01 1.2000e+02]\n",
      " [5.6436e+01 1.3000e+02]\n",
      " [5.1793e+01 1.4000e+02]\n",
      " [3.6209e+01 1.5000e+02]\n",
      " [6.3223e+01 1.6000e+02]\n",
      " [6.1511e+01 1.7000e+02]\n",
      " [6.1192e+01 1.8000e+02]\n",
      " [4.7303e+01 1.9000e+02]\n",
      " [5.7037e+01 2.0000e+02]\n",
      " [5.6466e+01 2.1000e+02]\n",
      " [5.6813e+01 2.2000e+02]\n",
      " [5.7803e+01 2.3000e+02]\n",
      " [5.7392e+01 2.4000e+02]\n",
      " [5.4293e+01 2.5000e+02]\n",
      " [4.9978e+01 2.6000e+02]\n",
      " [1.4703e+01 2.7000e+02]\n",
      " [5.7440e+00 2.8000e+02]\n",
      " [3.9436e+01 2.9000e+02]\n",
      " [2.1800e-01 3.0000e+02]\n",
      " [0.0000e+00 3.1000e+02]\n",
      " [0.0000e+00 3.2000e+02]\n",
      " [8.5990e+00 3.3000e+02]\n",
      " [0.0000e+00 3.4000e+02]]\n",
      "The number of training substreams is: 30\n",
      "Loading testing event streams ...\n",
      "Adding GPS\n",
      "Adding GPS\n",
      "[[ 50.12152  49.72   ]\n",
      " [ 52.865    59.     ]\n",
      " [ 50.3947   68.15   ]\n",
      " [ 29.96344  78.54   ]\n",
      " [ 54.734    88.5    ]\n",
      " [ 55.2648   97.85   ]\n",
      " [ 58.35954 107.74   ]\n",
      " [ 57.20458 117.57   ]\n",
      " [ 57.09032 127.56   ]\n",
      " [ 52.65722 137.26   ]\n",
      " [ 37.37963 147.27   ]\n",
      " [ 63.69304 157.14   ]\n",
      " [ 64.50614 166.86   ]\n",
      " [ 63.7486  176.6    ]\n",
      " [ 58.56978 185.11   ]\n",
      " [ 59.825   192.99   ]\n",
      " [ 56.01883 202.73   ]\n",
      " [ 57.916   212.5    ]\n",
      " [ 58.78535 222.51   ]\n",
      " [ 58.5664  232.24   ]\n",
      " [ 51.65809 242.47   ]\n",
      " [ 48.33341 252.81   ]\n",
      " [ 46.91136 259.08   ]\n",
      " [ 46.39746 260.78   ]\n",
      " [ 44.7611  267.42   ]\n",
      " [ 11.0216  274.2    ]\n",
      " [  5.165   277.     ]\n",
      " [  6.71182 277.79   ]\n",
      " [ 32.6069  285.3    ]\n",
      " [ 33.25436 285.52   ]]\n"
     ]
    },
    {
     "data": {
      "application/json": {
       "ascii": false,
       "bar_format": null,
       "colour": null,
       "elapsed": 0.010835886001586914,
       "initial": 0,
       "n": 0,
       "ncols": null,
       "nrows": null,
       "postfix": null,
       "prefix": "",
       "rate": null,
       "total": 1,
       "unit": "it",
       "unit_divisor": 1000,
       "unit_scale": false
      },
      "application/vnd.jupyter.widget-view+json": {
       "model_id": "46b81b5548514474b8ce991a7778c380",
       "version_major": 2,
       "version_minor": 0
      },
      "text/plain": [
       "  0%|          | 0/1 [00:00<?, ?it/s]"
      ]
     },
     "metadata": {},
     "output_type": "display_data"
    },
    {
     "name": "stdout",
     "output_type": "stream",
     "text": [
      "Duration: 360.22s (which is 266579839 events)\n"
     ]
    },
    {
     "name": "stderr",
     "output_type": "stream",
     "text": [
      "/home/n10223622/snn-event-vpr/src/BrisbaneVPRDatasetSpeed.py:131: SettingWithCopyWarning: \n",
      "A value is trying to be set on a copy of a slice from a DataFrame\n",
      "\n",
      "See the caveats in the documentation: https://pandas.pydata.org/pandas-docs/stable/user_guide/indexing.html#returning-a-view-versus-a-copy\n",
      "  event_stream['x'].loc[small_filt0x] = i\n",
      "/home/n10223622/snn-event-vpr/src/BrisbaneVPRDatasetSpeed.py:135: SettingWithCopyWarning: \n",
      "A value is trying to be set on a copy of a slice from a DataFrame\n",
      "\n",
      "See the caveats in the documentation: https://pandas.pydata.org/pandas-docs/stable/user_guide/indexing.html#returning-a-view-versus-a-copy\n",
      "  event_stream['y'].loc[small_filt0y] = i\n",
      "/home/n10223622/snn-event-vpr/src/BrisbaneVPRDatasetSpeed.py:57: SettingWithCopyWarning: \n",
      "A value is trying to be set on a copy of a slice from a DataFrame.\n",
      "Try using .loc[row_indexer,col_indexer] = value instead\n",
      "\n",
      "See the caveats in the documentation: https://pandas.pydata.org/pandas-docs/stable/user_guide/indexing.html#returning-a-view-versus-a-copy\n",
      "  chopped_stream['t'] -= chop_start\n"
     ]
    },
    {
     "name": "stdout",
     "output_type": "stream",
     "text": [
      "The number of testing substreams is: 30\n"
     ]
    }
   ],
   "source": [
    "# Load the data\n",
    "training_set = BrisbaneVPRDatasetSpeed(train_traverse, train=True, place_duration = place_duration, place_gap=place_gap, num_places=num_places, start_time=start_time,samples_per_sec=samples_per_sec, max_spikes=max_spikes, subselect_num=input_size)\n",
    "testing_set  = BrisbaneVPRDatasetSpeed(test_traverse, train=False, place_duration = place_duration, training_locations=training_set.place_locations, place_gap=place_gap, num_places=num_places, start_time=start_time, samples_per_sec=samples_per_sec, max_spikes=max_spikes, subselect_num=input_size)\n",
    "            \n",
    "train_loader = DataLoader(dataset=training_set, batch_size=batch_size, shuffle=True)\n",
    "test_loader  = DataLoader(dataset=testing_set , batch_size=batch_size, shuffle=True)"
   ]
  },
  {
   "cell_type": "code",
   "execution_count": 4,
   "metadata": {},
   "outputs": [
    {
     "name": "stdout",
     "output_type": "stream",
     "text": [
      "[Epoch  0/50] Train loss =     1.39258 | Test  loss =     0.79423                        accuracy = 0.03333\n",
      "Accuracy was none\n",
      "\n",
      "Accuracy was none\n",
      "[Epoch  1/50] Train loss =     0.57364 (min =     1.39258)    accuracy = 0.16667  | Test  loss =     0.71526 (min =     0.79423)    accuracy = 0.10000 (max = 0.03333)\n",
      "Accuracy was none\n",
      "[Epoch  2/50] Train loss =     0.56291 (min =     0.57364)    accuracy = 0.16667 (max = 0.16667) | Test  loss =     0.68888 (min =     0.71526)    accuracy = 0.20000 (max = 0.10000)\n",
      "Accuracy was none\n",
      "[Epoch  3/50] Train loss =     0.50396 (min =     0.56291)    accuracy = 0.20000 (max = 0.16667) | Test  loss =     0.94060 (min =     0.68888)    accuracy = 0.20000 (max = 0.20000)\n",
      "Accuracy was none\n",
      "[Epoch  4/50] Train loss =     0.54190 (min =     0.50396)    accuracy = 0.20000 (max = 0.20000) | Test  loss =     0.59657 (min =     0.68888)    accuracy = 0.40000 (max = 0.20000)\n",
      "Accuracy was none\n",
      "[Epoch  5/50] Train loss =     0.41491 (min =     0.50396)    accuracy = 0.53333 (max = 0.20000) | Test  loss =     0.70879 (min =     0.59657)    accuracy = 0.30000 (max = 0.40000)\n",
      "Accuracy was none\n",
      "[Epoch  6/50] Train loss =     0.43765 (min =     0.41491)    accuracy = 0.46667 (max = 0.53333) | Test  loss =     0.64685 (min =     0.59657)    accuracy = 0.36667 (max = 0.40000)\n",
      "Accuracy was none\n",
      "[Epoch  7/50] Train loss =     0.40518 (min =     0.41491)    accuracy = 0.50000 (max = 0.53333) | Test  loss =     0.54582 (min =     0.59657)    accuracy = 0.43333 (max = 0.40000)\n",
      "Accuracy was none\n",
      "[Epoch  8/50] Train loss =     0.36437 (min =     0.40518)    accuracy = 0.63333 (max = 0.53333) | Test  loss =     0.60021 (min =     0.54582)    accuracy = 0.43333 (max = 0.43333)\n",
      "Accuracy was none\n",
      "[Epoch  9/50] Train loss =     0.34014 (min =     0.36437)    accuracy = 0.73333 (max = 0.63333) | Test  loss =     0.59303 (min =     0.54582)    accuracy = 0.50000 (max = 0.43333)\n",
      "Accuracy was none\n",
      "[Epoch 10/50] Train loss =     0.33738 (min =     0.34014)    accuracy = 0.73333 (max = 0.73333) | Test  loss =     0.56176 (min =     0.54582)    accuracy = 0.53333 (max = 0.50000)\n",
      "Accuracy was none\n",
      "[Epoch 11/50] Train loss =     0.30808 (min =     0.33738)    accuracy = 0.73333 (max = 0.73333) | Test  loss =     0.56536 (min =     0.54582)    accuracy = 0.60000 (max = 0.53333)\n",
      "Accuracy was none\n",
      "[Epoch 12/50] Train loss =     0.30410 (min =     0.30808)    accuracy = 0.73333 (max = 0.73333) | Test  loss =     0.57723 (min =     0.54582)    accuracy = 0.63333 (max = 0.60000)\n",
      "Accuracy was none\n",
      "[Epoch 13/50] Train loss =     0.26852 (min =     0.30410)    accuracy = 0.76667 (max = 0.73333) | Test  loss =     0.44627 (min =     0.54582)    accuracy = 0.60000 (max = 0.63333)\n",
      "Accuracy was none\n",
      "[Epoch 14/50] Train loss =     0.23730 (min =     0.26852)    accuracy = 0.76667 (max = 0.76667) | Test  loss =     0.50644 (min =     0.44627)    accuracy = 0.50000 (max = 0.63333)\n",
      "Accuracy was none\n",
      "[Epoch 15/50] Train loss =     0.24176 (min =     0.23730)    accuracy = 0.86667 (max = 0.76667) | Test  loss =     0.51603 (min =     0.44627)    accuracy = 0.56667 (max = 0.63333)\n",
      "Accuracy was none\n",
      "[Epoch 16/50] Train loss =     0.22131 (min =     0.23730)    accuracy = 0.86667 (max = 0.86667) | Test  loss =     0.56499 (min =     0.44627)    accuracy = 0.53333 (max = 0.63333)\n",
      "Accuracy was none\n",
      "[Epoch 17/50] Train loss =     0.22223 (min =     0.22131)    accuracy = 0.86667 (max = 0.86667) | Test  loss =     0.64970 (min =     0.44627)    accuracy = 0.63333 (max = 0.63333)\n",
      "Accuracy was none\n",
      "[Epoch 18/50] Train loss =     0.21369 (min =     0.22131)    accuracy = 0.83333 (max = 0.86667) | Test  loss =     0.41863 (min =     0.44627)    accuracy = 0.66667 (max = 0.63333)\n",
      "Accuracy was none\n",
      "                                                                                                                                                                                       \n",
      "[Epoch 19/50]\n",
      "Train loss =     0.18916 (min =     0.21369)    accuracy = 0.86667 (max = 0.86667) \n",
      "Test  loss =     0.65377 (min =     0.41863)    accuracy = 0.56667 (max = 0.66667)\n",
      "\n",
      "Accuracy was none\n",
      "[Epoch 20/50] Train loss =     0.19339 (min =     0.18916)    accuracy = 0.86667 (max = 0.86667) | Test  loss =     0.49729 (min =     0.41863)    accuracy = 0.70000 (max = 0.66667)\n",
      "Accuracy was none\n",
      "[Epoch 21/50] Train loss =     0.18053 (min =     0.18916)    accuracy = 0.86667 (max = 0.86667) | Test  loss =     0.74402 (min =     0.41863)    accuracy = 0.76667 (max = 0.70000)\n",
      "Accuracy was none\n",
      "[Epoch 22/50] Train loss =     0.17653 (min =     0.18053)    accuracy = 0.86667 (max = 0.86667) | Test  loss =     0.42462 (min =     0.41863)    accuracy = 0.73333 (max = 0.76667)\n",
      "Accuracy was none\n",
      "[Epoch 23/50] Train loss =     0.16297 (min =     0.17653)    accuracy = 0.86667 (max = 0.86667) | Test  loss =     0.64717 (min =     0.41863)    accuracy = 0.73333 (max = 0.76667)\n",
      "Accuracy was none\n",
      "[Epoch 24/50] Train loss =     0.15947 (min =     0.16297)    accuracy = 0.86667 (max = 0.86667) | Test  loss =     0.61822 (min =     0.41863)    accuracy = 0.76667 (max = 0.76667)\n",
      "Accuracy was none\n",
      "[Epoch 25/50] Train loss =     0.15076 (min =     0.15947)    accuracy = 0.86667 (max = 0.86667) | Test  loss =     0.79495 (min =     0.41863)    accuracy = 0.66667 (max = 0.76667)\n",
      "Accuracy was none\n",
      "[Epoch 26/50] Train loss =     0.16825 (min =     0.15076)    accuracy = 0.86667 (max = 0.86667) | Test  loss =     0.44367 (min =     0.41863)    accuracy = 0.66667 (max = 0.76667)\n",
      "Accuracy was none\n",
      "[Epoch 27/50] Train loss =     0.16800 (min =     0.15076)    accuracy = 0.86667 (max = 0.86667) | Test  loss =     0.68972 (min =     0.41863)    accuracy = 0.70000 (max = 0.76667)\n",
      "Accuracy was none\n",
      "[Epoch 28/50] Train loss =     0.13873 (min =     0.15076)    accuracy = 0.86667 (max = 0.86667) | Test  loss =     0.64536 (min =     0.41863)    accuracy = 0.60000 (max = 0.76667)\n",
      "Accuracy was none\n",
      "[Epoch 29/50] Train loss =     0.14436 (min =     0.13873)    accuracy = 0.86667 (max = 0.86667) | Test  loss =     0.71590 (min =     0.41863)    accuracy = 0.66667 (max = 0.76667)\n",
      "Accuracy was none\n",
      "[Epoch 30/50] Train loss =     0.12967 (min =     0.13873)    accuracy = 0.86667 (max = 0.86667) | Test  loss =     0.53313 (min =     0.41863)    accuracy = 0.70000 (max = 0.76667)\n",
      "Accuracy was none\n",
      "[Epoch 31/50] Train loss =     0.13037 (min =     0.12967)    accuracy = 0.86667 (max = 0.86667) | Test  loss =     0.69662 (min =     0.41863)    accuracy = 0.70000 (max = 0.76667)\n",
      "Accuracy was none\n",
      "[Epoch 32/50] Train loss =     0.12250 (min =     0.12967)    accuracy = 0.86667 (max = 0.86667) | Test  loss =     0.66399 (min =     0.41863)    accuracy = 0.70000 (max = 0.76667)\n",
      "Accuracy was none\n",
      "[Epoch 33/50] Train loss =     0.11595 (min =     0.12250)    accuracy = 0.86667 (max = 0.86667) | Test  loss =     0.97753 (min =     0.41863)    accuracy = 0.63333 (max = 0.76667)\n",
      "Accuracy was none\n",
      "[Epoch 34/50] Train loss =     0.12539 (min =     0.11595)    accuracy = 0.86667 (max = 0.86667) | Test  loss =     0.72099 (min =     0.41863)    accuracy = 0.66667 (max = 0.76667)\n",
      "Accuracy was none\n",
      "[Epoch 35/50] Train loss =     0.12521 (min =     0.11595)    accuracy = 0.86667 (max = 0.86667) | Test  loss =     0.75630 (min =     0.41863)    accuracy = 0.70000 (max = 0.76667)\n",
      "Accuracy was none\n",
      "[Epoch 36/50] Train loss =     0.11719 (min =     0.11595)    accuracy = 0.90000 (max = 0.86667) | Test  loss =     0.66740 (min =     0.41863)    accuracy = 0.70000 (max = 0.76667)\n",
      "Accuracy was none\n",
      "[Epoch 37/50] Train loss =     0.11231 (min =     0.11595)    accuracy = 0.93333 (max = 0.90000) | Test  loss =     0.76968 (min =     0.41863)    accuracy = 0.60000 (max = 0.76667)\n",
      "Accuracy was none\n",
      "[Epoch 38/50] Train loss =     0.10849 (min =     0.11231)    accuracy = 0.93333 (max = 0.93333) | Test  loss =     1.12626 (min =     0.41863)    accuracy = 0.70000 (max = 0.76667)\n",
      "Accuracy was none\n",
      "                                                                                                                                                                                       \n",
      "[Epoch 39/50]\n",
      "Train loss =     0.10532 (min =     0.10849)    accuracy = 0.93333 (max = 0.93333) \n",
      "Test  loss =     0.66380 (min =     0.41863)    accuracy = 0.66667 (max = 0.76667)\n",
      "\n",
      "Accuracy was none\n",
      "[Epoch 40/50] Train loss =     0.10383 (min =     0.10532)    accuracy = 0.93333 (max = 0.93333) | Test  loss =     0.94373 (min =     0.41863)    accuracy = 0.70000 (max = 0.76667)\n",
      "Accuracy was none\n",
      "[Epoch 41/50] Train loss =     0.09769 (min =     0.10383)    accuracy = 0.93333 (max = 0.93333) | Test  loss =     0.75065 (min =     0.41863)    accuracy = 0.70000 (max = 0.76667)\n",
      "Accuracy was none\n",
      "[Epoch 42/50] Train loss =     0.09601 (min =     0.09769)    accuracy = 0.93333 (max = 0.93333) | Test  loss =     1.49793 (min =     0.41863)    accuracy = 0.66667 (max = 0.76667)\n",
      "Accuracy was none\n",
      "[Epoch 43/50] Train loss =     0.09476 (min =     0.09601)    accuracy = 0.93333 (max = 0.93333) | Test  loss =     0.80911 (min =     0.41863)    accuracy = 0.66667 (max = 0.76667)\n",
      "Accuracy was none\n",
      "[Epoch 44/50] Train loss =     0.09833 (min =     0.09476)    accuracy = 0.93333 (max = 0.93333) | Test  loss =     1.20133 (min =     0.41863)    accuracy = 0.73333 (max = 0.76667)\n",
      "Accuracy was none\n",
      "[Epoch 45/50] Train loss =     0.11263 (min =     0.09476)    accuracy = 0.93333 (max = 0.93333) | Test  loss =     0.68196 (min =     0.41863)    accuracy = 0.70000 (max = 0.76667)\n",
      "Accuracy was none\n",
      "[Epoch 46/50] Train loss =     0.09652 (min =     0.09476)    accuracy = 0.93333 (max = 0.93333) | Test  loss =     1.67332 (min =     0.41863)    accuracy = 0.70000 (max = 0.76667)\n",
      "Accuracy was none\n",
      "[Epoch 47/50] Train loss =     0.13734 (min =     0.09476)    accuracy = 0.93333 (max = 0.93333) | Test  loss =     0.77565 (min =     0.41863)    accuracy = 0.66667 (max = 0.76667)\n",
      "Accuracy was none\n",
      "[Epoch 48/50] Train loss =     0.11788 (min =     0.09476)    accuracy = 0.93333 (max = 0.93333) | Test  loss =     2.12344 (min =     0.41863)    accuracy = 0.60000 (max = 0.76667)\n",
      "Accuracy was none\n",
      "[Epoch 49/50] Train loss =     0.11218 (min =     0.09476)    accuracy = 0.93333 (max = 0.93333) | Test  loss =     0.65892 (min =     0.41863)    accuracy = 0.63333 (max = 0.76667)\n",
      "Accuracy was none\n"
     ]
    }
   ],
   "source": [
    "# Define an optimiser \n",
    "optimizer = torch.optim.Adam(net.parameters(), lr=0.001)\n",
    "\n",
    "# Training the network\n",
    "error = slayer.loss.SpikeRate(true_rate=0.2, false_rate=0.03, reduction='sum').to(device)\n",
    "\n",
    "# Create a training assistant object\n",
    "stats = slayer.utils.LearningStats()\n",
    "assistant = slayer.utils.Assistant(net, error, optimizer, stats, classifier=slayer.classifier.Rate.predict)\n",
    "\n",
    "\n",
    "if redo_plot:\n",
    "    for i, (input, label) in enumerate(train_loader): # training loop\n",
    "        output = assistant.train(input, label)\n",
    "\n",
    "else: \n",
    "    for epoch in range(epochs):\n",
    "\n",
    "        for i, (input, label) in enumerate(train_loader): # training loop\n",
    "            output = assistant.train(input, label)\n",
    "        print(f'\\r[Epoch {epoch:2d}/{epochs}] {stats}', end='')\n",
    "\n",
    "        for i, (input, label) in enumerate(test_loader): # training loop\n",
    "            output = assistant.test(input, label)\n",
    "        print(f'\\r[Epoch {epoch:2d}/{epochs}] {stats}', end='')\n",
    "\n",
    "        if epoch%20 == 19: # cleanup display\n",
    "            print('\\r', ' '*len(f'\\r[Epoch {epoch:2d}/{epochs}] {stats}'))\n",
    "            stats_str = str(stats).replace(\"| \", \"\\n\")\n",
    "            print(f'[Epoch {epoch:2d}/{epochs}]\\n{stats_str}')\n",
    "\n",
    "        if stats.testing.best_accuracy:\n",
    "            torch.save(net.state_dict(), trained_folder + '/network.pt')\n",
    "        stats.update()\n",
    "        stats.save(trained_folder + '/')\n",
    "        net.grad_flow(trained_folder + '/')"
   ]
  },
  {
   "cell_type": "code",
   "execution_count": 5,
   "metadata": {},
   "outputs": [
    {
     "name": "stdout",
     "output_type": "stream",
     "text": [
      "(30, 30)\n"
     ]
    }
   ],
   "source": [
    "# import the best network during training \n",
    "net.load_state_dict(torch.load(trained_folder + '/network.pt'))\n",
    "net.export_hdf5(trained_folder + '/network.net')\n",
    "\n",
    "# Get the output for the input to each place\n",
    "test_loader2  = DataLoader(dataset=testing_set , batch_size=batch_size, shuffle=False)\n",
    "rate = []\n",
    "labels = []\n",
    "for i, (input, label) in enumerate(test_loader2):\n",
    "    output = net(input.to(device)) # Get network output\n",
    "    #guesses = assistant.classifier(output).cpu().data.numpy() # get the predictions \n",
    "    rate.extend(Rate.rate(output).cpu().data.numpy()) # Get the firing rates for each place \n",
    "    labels.extend(label.cpu().data.numpy()) # Get place labels\n",
    "\n",
    "\n",
    "# # Get rates in percentages of total\n",
    "# for i in range(num_places):\n",
    "#     sum = np.sum(rate[i])\n",
    "#     if sum != 0:\n",
    "#         rate[i] = np.divide(rate[i],sum)\n",
    "\n",
    "# Make confusion matrix annotations\n",
    "accuracy = 0\n",
    "matches = []\n",
    "annotations = [['' for i in range(num_places)] for j in range(num_places)]\n",
    "for qryIndex in range(num_places):\n",
    "    max_idx = np.argmax(rate[qryIndex])\n",
    "    matches.append(max_idx)\n",
    "    annotations[max_idx][qryIndex] = 'x'\n",
    "    if max_idx ==qryIndex:\n",
    "        accuracy += 1\n",
    "\n",
    "\n",
    "#--------------- Apply a sequencer ------------------#\n",
    "I = np.identity(sequence_length)\n",
    "conv = signal.convolve2d(rate, I, mode='same')\n",
    "print(np.shape(conv))\n",
    "\n",
    "# Make confusion matrix annotations\n",
    "accuracy_s = 0\n",
    "matches_with_seq = []\n",
    "annotations_s = [['' for i in range(num_places)] for j in range(num_places)]\n",
    "for qryIndex in range(num_places):\n",
    "    max_idx = np.argmax(conv[qryIndex])\n",
    "    matches_with_seq.append(max_idx)\n",
    "    annotations_s[max_idx][qryIndex] = 'x'\n",
    "    if max_idx == qryIndex:\n",
    "        accuracy_s += 1\n",
    "\n"
   ]
  },
  {
   "cell_type": "code",
   "execution_count": 6,
   "metadata": {},
   "outputs": [
    {
     "name": "stdout",
     "output_type": "stream",
     "text": [
      "help\n"
     ]
    },
    {
     "data": {
      "text/plain": [
       "<Figure size 1296x288 with 0 Axes>"
      ]
     },
     "metadata": {},
     "output_type": "display_data"
    },
    {
     "data": {
      "text/plain": [
       "<Figure size 1296x288 with 0 Axes>"
      ]
     },
     "metadata": {},
     "output_type": "display_data"
    }
   ],
   "source": [
    "\n",
    "#--------------- Save Results ------------------#\n",
    "\n",
    "# Make new folder for results\n",
    "from tracemalloc import start\n",
    "from plotting import plot_gps\n",
    "\n",
    "\n",
    "time_stamp = datetime.now().strftime('%Y-%m-%d_%H-%M-%S')\n",
    "results_path = \"./../results/\" + time_stamp\n",
    "os.mkdir(results_path)\n",
    "\n",
    "\n",
    "# Save query and match images \n",
    "images_path = results_path + \"/matched_images\"\n",
    "images_path_seq = results_path + \"/matched_images_seq\"\n",
    "os.mkdir(images_path)\n",
    "os.mkdir(images_path_seq)\n",
    "\n",
    "print('help')\n",
    "plot_match_images(images_path + \"/\", matches, training_set.place_images, testing_set.place_images)\n",
    "plot_match_images(images_path_seq + \"/\", matches_with_seq, training_set.place_images, testing_set.place_images)\n",
    "\n",
    "# Save the confusion matrices\n",
    "confusion_path = results_path + \"/confusion_matrices\"\n",
    "os.mkdir(confusion_path)\n",
    "rate = transpose(rate)\n",
    "conv = transpose(conv)\n",
    "output_path = confusion_path + \"/confusion_matrix\" \n",
    "output_path_s = confusion_path + \"/confusion_matrix_seq\" \n",
    "plot_confusion_matrix(rate, labels, annotations, output_path, vmin, vmax)\n",
    "plot_confusion_matrix(conv, labels, annotations_s, output_path_s, vmin, vmax)\n",
    "\n",
    "# Save GPS map'\n",
    "gps_path = results_path + \"/gps_locations\"\n",
    "plot_gps(gps_path, training_set.place_locations, testing_set.place_locations)\n",
    "\n",
    "# Save test settings and accuracy\n",
    "accuracy = accuracy/num_places\n",
    "accuracy_s = accuracy_s/num_places\n"
   ]
  },
  {
   "cell_type": "code",
   "execution_count": 7,
   "metadata": {},
   "outputs": [
    {
     "name": "stdout",
     "output_type": "stream",
     "text": [
      "The accuracy of the network is: 0.7333333333333333\n",
      "The accuracy with a sequencer is: 0.8666666666666667\n"
     ]
    }
   ],
   "source": [
    "\n",
    "log_path = results_path + \"/log.txt\"\n",
    "log_string  = \"\"\"\n",
    "---- DATA SETTINGS ---- \n",
    "Training datasets = {}\n",
    "Testing datasets = {} \n",
    "# Places = {}\n",
    "Start time = {} [s]\n",
    "Place gap = {} [s]\n",
    "Place duration = {} [s]\n",
    "Samples per second = {} \n",
    "Max spikes per sample = {}\n",
    "---- NETWORK SETTINGS ---- \n",
    "Input size = {}x{} \n",
    "Threshold = {}\n",
    "---- TRAINING SETTINGS ---- \n",
    "Epochs = {}\n",
    "Batch size = {}\n",
    "---- SEQUENCER SETTINGS ----\n",
    "Sequence lengtth = {} \n",
    "---- RESULTS ----\n",
    "Accuracy = {}\n",
    "Accuracy (sequencer) = {}\n",
    "\"\"\".format(train_name,test_name,num_places,start_time,place_gap,place_duration,\n",
    "                samples_per_sec,max_spikes,input_size,input_size,threshold,epochs,\n",
    "                batch_size,sequence_length,accuracy,accuracy_s)\n",
    "f = open(log_path,'w')\n",
    "f.write(log_string)\n",
    "f.close()\n",
    "\n",
    "print(\"The accuracy of the network is: \" + str(accuracy))\n",
    "print(\"The accuracy with a sequencer is: \" + str(accuracy_s))"
   ]
  }
 ],
 "metadata": {
  "kernelspec": {
   "display_name": "Python 3.10.4 ('lavaenv')",
   "language": "python",
   "name": "python3"
  },
  "language_info": {
   "codemirror_mode": {
    "name": "ipython",
    "version": 3
   },
   "file_extension": ".py",
   "mimetype": "text/x-python",
   "name": "python",
   "nbconvert_exporter": "python",
   "pygments_lexer": "ipython3",
   "version": "3.10.4"
  },
  "orig_nbformat": 4,
  "vscode": {
   "interpreter": {
    "hash": "63e713066215dbc07efbeb034515a5b964b6ad27977c03151c829f7f04a8001d"
   }
  }
 },
 "nbformat": 4,
 "nbformat_minor": 2
}

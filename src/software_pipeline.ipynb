{
 "cells": [
  {
   "cell_type": "markdown",
   "metadata": {},
   "source": [
    "%%% Imports"
   ]
  },
  {
   "cell_type": "code",
   "execution_count": 1,
   "metadata": {},
   "outputs": [],
   "source": [
    "\n",
    "from __future__ import annotations\n",
    "from time import time\n",
    "from BrisbaneVPRDataset import BrisbaneVPRDataset\n",
    "from VPRNetwork import VPRNetwork\n",
    "from plotting import plot_confusion_matrix, plot_match_images, plot_gps\n",
    "from constants import brisbane_event_traverses, brisbane_event_traverses_aliases\n",
    "from utils import get_short_traverse_name\n",
    "\n",
    "import os, sys\n",
    "import torch\n",
    "from torch.utils.data import DataLoader\n",
    "import matplotlib.pyplot as plt\n",
    "from matplotlib import animation\n",
    "from scipy import signal\n",
    "from datetime import datetime\n",
    "\n",
    "import numpy as np\n",
    "\n",
    "import lava.lib.dl.slayer as slayer\n",
    "from lava.lib.dl.slayer.classifier import Rate\n"
   ]
  },
  {
   "cell_type": "code",
   "execution_count": 2,
   "metadata": {},
   "outputs": [
    {
     "name": "stdout",
     "output_type": "stream",
     "text": [
      "Sunset 1 Sunrise\n",
      "True\n"
     ]
    }
   ],
   "source": [
    "# Training settings\n",
    "from cgi import test\n",
    "\n",
    "\n",
    "epochs = 50\n",
    "batch_size = 10\n",
    "\n",
    "# Network settings\n",
    "input_size = 34\n",
    "threshold = 1.0\n",
    "\n",
    "# Data settings\n",
    "train_traverse = brisbane_event_traverses[0]\n",
    "test_traverse = brisbane_event_traverses[4]\n",
    "train_name = brisbane_event_traverses_aliases[get_short_traverse_name(train_traverse)]\n",
    "test_name = brisbane_event_traverses_aliases[get_short_traverse_name(test_traverse)]\n",
    "print(train_name, test_name)\n",
    "num_places = 30\n",
    "start_time = 100\n",
    "place_gap = 2 #164/num_places # The streams run for approximately 164 seconds \n",
    "samples_per_sec = 1000\n",
    "place_duration = 2\n",
    "max_spikes = None\n",
    "\n",
    "# Sequencer settings\n",
    "sequence_length = 3\n",
    "\n",
    "# Plot settings\n",
    "redo_plot = False\n",
    "vmin = 0\n",
    "vmax = 0.05\n",
    "\n",
    "def transpose( matrix):\n",
    "    if len(matrix) == 0:\n",
    "        return []\n",
    "    return [[matrix[i][j] for i in range(len(matrix))] for j in range(len(matrix[0]))]\n",
    "\n",
    "\n",
    "# Make a folder for the trained network\n",
    "trained_folder = 'Trained'\n",
    "os.makedirs(trained_folder, exist_ok=True)\n",
    "\n",
    "# Use GPU\n",
    "print(torch.cuda.is_available())\n",
    "device = torch.device('cuda')\n",
    "\n",
    "#---------------- Create the Network -----------------#\n",
    "\n",
    "# Create the network\n",
    "net = VPRNetwork(input_size, num_places, threshold=threshold).to(device)\n"
   ]
  },
  {
   "cell_type": "code",
   "execution_count": 3,
   "metadata": {},
   "outputs": [
    {
     "name": "stdout",
     "output_type": "stream",
     "text": [
      "Loading training event streams ...\n",
      "Adding GPS\n"
     ]
    },
    {
     "data": {
      "application/json": {
       "ascii": false,
       "bar_format": null,
       "colour": null,
       "elapsed": 0.014168500900268555,
       "initial": 0,
       "n": 0,
       "ncols": null,
       "nrows": null,
       "postfix": null,
       "prefix": "",
       "rate": null,
       "total": 1,
       "unit": "it",
       "unit_divisor": 1000,
       "unit_scale": false
      },
      "application/vnd.jupyter.widget-view+json": {
       "model_id": "19ada9abe3ee42e49438cd4900703043",
       "version_major": 2,
       "version_minor": 0
      },
      "text/plain": [
       "  0%|          | 0/1 [00:00<?, ?it/s]"
      ]
     },
     "metadata": {},
     "output_type": "display_data"
    },
    {
     "name": "stdout",
     "output_type": "stream",
     "text": [
      "Duration: 453.96s (which is 199919933 events)\n"
     ]
    },
    {
     "name": "stderr",
     "output_type": "stream",
     "text": [
      "/home/n10223622/snn-event-vpr/src/BrisbaneVPRDataset.py:89: SettingWithCopyWarning: \n",
      "A value is trying to be set on a copy of a slice from a DataFrame\n",
      "\n",
      "See the caveats in the documentation: https://pandas.pydata.org/pandas-docs/stable/user_guide/indexing.html#returning-a-view-versus-a-copy\n",
      "  event_stream['x'].loc[small_filt0x] = i\n",
      "/home/n10223622/snn-event-vpr/src/BrisbaneVPRDataset.py:93: SettingWithCopyWarning: \n",
      "A value is trying to be set on a copy of a slice from a DataFrame\n",
      "\n",
      "See the caveats in the documentation: https://pandas.pydata.org/pandas-docs/stable/user_guide/indexing.html#returning-a-view-versus-a-copy\n",
      "  event_stream['y'].loc[small_filt0y] = i\n",
      "/home/n10223622/snn-event-vpr/src/BrisbaneVPRDataset.py:54: SettingWithCopyWarning: \n",
      "A value is trying to be set on a copy of a slice from a DataFrame.\n",
      "Try using .loc[row_indexer,col_indexer] = value instead\n",
      "\n",
      "See the caveats in the documentation: https://pandas.pydata.org/pandas-docs/stable/user_guide/indexing.html#returning-a-view-versus-a-copy\n",
      "  chopped_stream['t'] -= chop_start\n"
     ]
    },
    {
     "name": "stdout",
     "output_type": "stream",
     "text": [
      "The number of training substreams is: 30\n",
      "Loading testing event streams ...\n",
      "Adding GPS\n"
     ]
    },
    {
     "data": {
      "application/json": {
       "ascii": false,
       "bar_format": null,
       "colour": null,
       "elapsed": 0.010984420776367188,
       "initial": 0,
       "n": 0,
       "ncols": null,
       "nrows": null,
       "postfix": null,
       "prefix": "",
       "rate": null,
       "total": 1,
       "unit": "it",
       "unit_divisor": 1000,
       "unit_scale": false
      },
      "application/vnd.jupyter.widget-view+json": {
       "model_id": "4d78aa40867e4847a505a5aa71af601b",
       "version_major": 2,
       "version_minor": 0
      },
      "text/plain": [
       "  0%|          | 0/1 [00:00<?, ?it/s]"
      ]
     },
     "metadata": {},
     "output_type": "display_data"
    },
    {
     "name": "stdout",
     "output_type": "stream",
     "text": [
      "Duration: 464.74s (which is 199854365 events)\n"
     ]
    },
    {
     "name": "stderr",
     "output_type": "stream",
     "text": [
      "/home/n10223622/snn-event-vpr/src/BrisbaneVPRDataset.py:128: SettingWithCopyWarning: \n",
      "A value is trying to be set on a copy of a slice from a DataFrame\n",
      "\n",
      "See the caveats in the documentation: https://pandas.pydata.org/pandas-docs/stable/user_guide/indexing.html#returning-a-view-versus-a-copy\n",
      "  event_stream['x'].loc[small_filt0x] = i\n",
      "/home/n10223622/snn-event-vpr/src/BrisbaneVPRDataset.py:132: SettingWithCopyWarning: \n",
      "A value is trying to be set on a copy of a slice from a DataFrame\n",
      "\n",
      "See the caveats in the documentation: https://pandas.pydata.org/pandas-docs/stable/user_guide/indexing.html#returning-a-view-versus-a-copy\n",
      "  event_stream['y'].loc[small_filt0y] = i\n",
      "/home/n10223622/snn-event-vpr/src/BrisbaneVPRDataset.py:54: SettingWithCopyWarning: \n",
      "A value is trying to be set on a copy of a slice from a DataFrame.\n",
      "Try using .loc[row_indexer,col_indexer] = value instead\n",
      "\n",
      "See the caveats in the documentation: https://pandas.pydata.org/pandas-docs/stable/user_guide/indexing.html#returning-a-view-versus-a-copy\n",
      "  chopped_stream['t'] -= chop_start\n"
     ]
    },
    {
     "name": "stdout",
     "output_type": "stream",
     "text": [
      "The number of testing substreams is: 30\n"
     ]
    }
   ],
   "source": [
    "# Load the data\n",
    "training_set = BrisbaneVPRDataset(train_traverse, train=True, place_duration = place_duration, place_gap=place_gap, num_places=num_places, start_time=start_time,samples_per_sec=samples_per_sec, max_spikes=max_spikes, subselect_num=input_size)\n",
    "testing_set  = BrisbaneVPRDataset(test_traverse, train=False, place_duration = place_duration, training_locations=training_set.place_locations, place_gap=place_gap, num_places=num_places, start_time=start_time, samples_per_sec=samples_per_sec, max_spikes=max_spikes, subselect_num=input_size)\n",
    "            \n",
    "train_loader = DataLoader(dataset=training_set, batch_size=batch_size, shuffle=True)\n",
    "test_loader  = DataLoader(dataset=testing_set , batch_size=batch_size, shuffle=True)"
   ]
  },
  {
   "cell_type": "code",
   "execution_count": 4,
   "metadata": {},
   "outputs": [
    {
     "name": "stdout",
     "output_type": "stream",
     "text": [
      "[Epoch  0/50] Train loss =     3.29202 | Test  loss =     0.57608                        accuracy = 0.06667\n",
      "Accuracy was none\n",
      "\n",
      "Accuracy was none\n",
      "[Epoch  1/50] Train loss =     0.65447 (min =     3.29202)    accuracy = 0.06667  | Test  loss =     0.55298 (min =     0.57608)    accuracy = 0.03333 (max = 0.06667)\n",
      "Accuracy was none\n",
      "[Epoch  2/50] Train loss =     0.60935 (min =     0.65447)    accuracy = 0.03333 (max = 0.06667) | Test  loss =     0.52311 (min =     0.55298)    accuracy = 0.06667 (max = 0.06667)\n",
      "Accuracy was none\n",
      "[Epoch  3/50] Train loss =     0.54600 (min =     0.60935)    accuracy = 0.16667 (max = 0.06667) | Test  loss =     0.52415 (min =     0.52311)    accuracy = 0.03333 (max = 0.06667)\n",
      "Accuracy was none\n",
      "[Epoch  4/50] Train loss =     0.56020 (min =     0.54600)    accuracy = 0.13333 (max = 0.16667) | Test  loss =     0.49495 (min =     0.52311)    accuracy = 0.13333 (max = 0.06667)\n",
      "Accuracy was none\n",
      "[Epoch  5/50] Train loss =     0.44737 (min =     0.54600)    accuracy = 0.23333 (max = 0.16667) | Test  loss =     0.52205 (min =     0.49495)    accuracy = 0.16667 (max = 0.13333)\n",
      "Accuracy was none\n",
      "[Epoch  6/50] Train loss =     0.47882 (min =     0.44737)    accuracy = 0.23333 (max = 0.23333) | Test  loss =     0.50485 (min =     0.49495)    accuracy = 0.16667 (max = 0.16667)\n",
      "Accuracy was none\n",
      "[Epoch  7/50] Train loss =     0.39269 (min =     0.44737)    accuracy = 0.33333 (max = 0.23333) | Test  loss =     0.48478 (min =     0.49495)    accuracy = 0.10000 (max = 0.16667)\n",
      "Accuracy was none\n",
      "[Epoch  8/50] Train loss =     0.36339 (min =     0.39269)    accuracy = 0.46667 (max = 0.33333) | Test  loss =     0.45566 (min =     0.48478)    accuracy = 0.13333 (max = 0.16667)\n",
      "Accuracy was none\n",
      "[Epoch  9/50] Train loss =     0.31312 (min =     0.36339)    accuracy = 0.50000 (max = 0.46667) | Test  loss =     0.49597 (min =     0.45566)    accuracy = 0.10000 (max = 0.16667)\n",
      "Accuracy was none\n",
      "[Epoch 10/50] Train loss =     0.29686 (min =     0.31312)    accuracy = 0.63333 (max = 0.50000) | Test  loss =     0.44036 (min =     0.45566)    accuracy = 0.10000 (max = 0.16667)\n",
      "Accuracy was none\n",
      "[Epoch 11/50] Train loss =     0.26066 (min =     0.29686)    accuracy = 0.63333 (max = 0.63333) | Test  loss =     0.43407 (min =     0.44036)    accuracy = 0.23333 (max = 0.16667)\n",
      "Accuracy was none\n",
      "[Epoch 12/50] Train loss =     0.23769 (min =     0.26066)    accuracy = 0.83333 (max = 0.63333) | Test  loss =     0.43423 (min =     0.43407)    accuracy = 0.23333 (max = 0.23333)\n",
      "Accuracy was none\n",
      "[Epoch 13/50] Train loss =     0.22707 (min =     0.23769)    accuracy = 0.73333 (max = 0.83333) | Test  loss =     0.43694 (min =     0.43407)    accuracy = 0.20000 (max = 0.23333)\n",
      "Accuracy was none\n",
      "[Epoch 14/50] Train loss =     0.19582 (min =     0.22707)    accuracy = 0.96667 (max = 0.83333) | Test  loss =     0.44985 (min =     0.43407)    accuracy = 0.30000 (max = 0.23333)\n",
      "Accuracy was none\n",
      "[Epoch 15/50] Train loss =     0.18354 (min =     0.19582)    accuracy = 0.93333 (max = 0.96667) | Test  loss =     0.43110 (min =     0.43407)    accuracy = 0.46667 (max = 0.30000)\n",
      "Accuracy was none\n",
      "[Epoch 16/50] Train loss =     0.16829 (min =     0.18354)    accuracy = 0.93333 (max = 0.96667) | Test  loss =     0.41686 (min =     0.43110)    accuracy = 0.40000 (max = 0.46667)\n",
      "Accuracy was none\n",
      "[Epoch 17/50] Train loss =     0.15594 (min =     0.16829)    accuracy = 0.86667 (max = 0.96667) | Test  loss =     0.42271 (min =     0.41686)    accuracy = 0.56667 (max = 0.46667)\n",
      "Accuracy was none\n",
      "[Epoch 18/50] Train loss =     0.13686 (min =     0.15594)    accuracy = 0.96667 (max = 0.96667) | Test  loss =     0.43055 (min =     0.41686)    accuracy = 0.46667 (max = 0.56667)\n",
      "Accuracy was none\n",
      "                                                                                                                                                                                       \n",
      "[Epoch 19/50]\n",
      "Train loss =     0.12773 (min =     0.13686)    accuracy = 1.00000 (max = 0.96667) \n",
      "Test  loss =     0.44068 (min =     0.41686)    accuracy = 0.50000 (max = 0.56667)\n",
      "\n",
      "Accuracy was none\n",
      "[Epoch 20/50] Train loss =     0.11145 (min =     0.12773)    accuracy = 1.00000 (max = 1.00000) | Test  loss =     0.43581 (min =     0.41686)    accuracy = 0.56667 (max = 0.56667)\n",
      "Accuracy was none\n",
      "[Epoch 21/50] Train loss =     0.10901 (min =     0.11145)    accuracy = 1.00000 (max = 1.00000) | Test  loss =     0.42840 (min =     0.41686)    accuracy = 0.56667 (max = 0.56667)\n",
      "Accuracy was none\n",
      "[Epoch 22/50] Train loss =     0.09316 (min =     0.10901)    accuracy = 1.00000 (max = 1.00000) | Test  loss =     0.41666 (min =     0.41686)    accuracy = 0.50000 (max = 0.56667)\n",
      "Accuracy was none\n",
      "[Epoch 23/50] Train loss =     0.09255 (min =     0.09316)    accuracy = 1.00000 (max = 1.00000) | Test  loss =     0.41217 (min =     0.41666)    accuracy = 0.60000 (max = 0.56667)\n",
      "Accuracy was none\n",
      "[Epoch 24/50] Train loss =     0.07713 (min =     0.09255)    accuracy = 1.00000 (max = 1.00000) | Test  loss =     0.42229 (min =     0.41217)    accuracy = 0.53333 (max = 0.60000)\n",
      "Accuracy was none\n",
      "[Epoch 25/50] Train loss =     0.06875 (min =     0.07713)    accuracy = 1.00000 (max = 1.00000) | Test  loss =     0.43379 (min =     0.41217)    accuracy = 0.43333 (max = 0.60000)\n",
      "Accuracy was none\n",
      "[Epoch 26/50] Train loss =     0.07142 (min =     0.06875)    accuracy = 1.00000 (max = 1.00000) | Test  loss =     0.43193 (min =     0.41217)    accuracy = 0.56667 (max = 0.60000)\n",
      "Accuracy was none\n",
      "[Epoch 27/50] Train loss =     0.06471 (min =     0.06875)    accuracy = 1.00000 (max = 1.00000) | Test  loss =     0.42967 (min =     0.41217)    accuracy = 0.56667 (max = 0.60000)\n",
      "Accuracy was none\n",
      "[Epoch 28/50] Train loss =     0.06067 (min =     0.06471)    accuracy = 1.00000 (max = 1.00000) | Test  loss =     0.42118 (min =     0.41217)    accuracy = 0.53333 (max = 0.60000)\n",
      "Accuracy was none\n",
      "[Epoch 29/50] Train loss =     0.05425 (min =     0.06067)    accuracy = 1.00000 (max = 1.00000) | Test  loss =     0.41875 (min =     0.41217)    accuracy = 0.53333 (max = 0.60000)\n",
      "Accuracy was none\n",
      "[Epoch 30/50] Train loss =     0.05098 (min =     0.05425)    accuracy = 1.00000 (max = 1.00000) | Test  loss =     0.41853 (min =     0.41217)    accuracy = 0.63333 (max = 0.60000)\n",
      "Accuracy was none\n",
      "[Epoch 31/50] Train loss =     0.05073 (min =     0.05098)    accuracy = 1.00000 (max = 1.00000) | Test  loss =     0.44230 (min =     0.41217)    accuracy = 0.66667 (max = 0.63333)\n",
      "Accuracy was none\n",
      "[Epoch 32/50] Train loss =     0.04862 (min =     0.05073)    accuracy = 1.00000 (max = 1.00000) | Test  loss =     0.44148 (min =     0.41217)    accuracy = 0.56667 (max = 0.66667)\n",
      "Accuracy was none\n",
      "[Epoch 33/50] Train loss =     0.04603 (min =     0.04862)    accuracy = 1.00000 (max = 1.00000) | Test  loss =     0.44013 (min =     0.41217)    accuracy = 0.60000 (max = 0.66667)\n",
      "Accuracy was none\n",
      "[Epoch 34/50] Train loss =     0.04520 (min =     0.04603)    accuracy = 1.00000 (max = 1.00000) | Test  loss =     0.42633 (min =     0.41217)    accuracy = 0.60000 (max = 0.66667)\n",
      "Accuracy was none\n",
      "[Epoch 35/50] Train loss =     0.04018 (min =     0.04520)    accuracy = 1.00000 (max = 1.00000) | Test  loss =     0.43168 (min =     0.41217)    accuracy = 0.63333 (max = 0.66667)\n",
      "Accuracy was none\n",
      "[Epoch 36/50] Train loss =     0.04399 (min =     0.04018)    accuracy = 1.00000 (max = 1.00000) | Test  loss =     0.42115 (min =     0.41217)    accuracy = 0.60000 (max = 0.66667)\n",
      "Accuracy was none\n",
      "[Epoch 37/50] Train loss =     0.03922 (min =     0.04018)    accuracy = 1.00000 (max = 1.00000) | Test  loss =     0.41884 (min =     0.41217)    accuracy = 0.56667 (max = 0.66667)\n",
      "Accuracy was none\n",
      "[Epoch 38/50] Train loss =     0.04062 (min =     0.03922)    accuracy = 1.00000 (max = 1.00000) | Test  loss =     0.42381 (min =     0.41217)    accuracy = 0.63333 (max = 0.66667)\n",
      "Accuracy was none\n",
      "                                                                                                                                                                                       \n",
      "[Epoch 39/50]\n",
      "Train loss =     0.03990 (min =     0.03922)    accuracy = 1.00000 (max = 1.00000) \n",
      "Test  loss =     0.42338 (min =     0.41217)    accuracy = 0.66667 (max = 0.66667)\n",
      "\n",
      "Accuracy was none\n",
      "[Epoch 40/50] Train loss =     0.03956 (min =     0.03922)    accuracy = 1.00000 (max = 1.00000) | Test  loss =     0.41918 (min =     0.41217)    accuracy = 0.63333 (max = 0.66667)\n",
      "Accuracy was none\n",
      "[Epoch 41/50] Train loss =     0.03967 (min =     0.03922)    accuracy = 1.00000 (max = 1.00000) | Test  loss =     0.42621 (min =     0.41217)    accuracy = 0.66667 (max = 0.66667)\n",
      "Accuracy was none\n",
      "[Epoch 42/50] Train loss =     0.03753 (min =     0.03922)    accuracy = 1.00000 (max = 1.00000) | Test  loss =     0.43074 (min =     0.41217)    accuracy = 0.63333 (max = 0.66667)\n",
      "Accuracy was none\n",
      "[Epoch 43/50] Train loss =     0.03627 (min =     0.03753)    accuracy = 1.00000 (max = 1.00000) | Test  loss =     0.42396 (min =     0.41217)    accuracy = 0.56667 (max = 0.66667)\n",
      "Accuracy was none\n",
      "[Epoch 44/50] Train loss =     0.03150 (min =     0.03627)    accuracy = 1.00000 (max = 1.00000) | Test  loss =     0.42909 (min =     0.41217)    accuracy = 0.60000 (max = 0.66667)\n",
      "Accuracy was none\n",
      "[Epoch 45/50] Train loss =     0.04289 (min =     0.03150)    accuracy = 1.00000 (max = 1.00000) | Test  loss =     0.42262 (min =     0.41217)    accuracy = 0.53333 (max = 0.66667)\n",
      "Accuracy was none\n",
      "[Epoch 46/50] Train loss =     0.03946 (min =     0.03150)    accuracy = 1.00000 (max = 1.00000) | Test  loss =     0.45128 (min =     0.41217)    accuracy = 0.56667 (max = 0.66667)\n",
      "Accuracy was none\n",
      "[Epoch 47/50] Train loss =     0.04578 (min =     0.03150)    accuracy = 1.00000 (max = 1.00000) | Test  loss =     0.44338 (min =     0.41217)    accuracy = 0.63333 (max = 0.66667)\n",
      "Accuracy was none\n",
      "[Epoch 48/50] Train loss =     0.04252 (min =     0.03150)    accuracy = 1.00000 (max = 1.00000) | Test  loss =     0.44798 (min =     0.41217)    accuracy = 0.66667 (max = 0.66667)\n",
      "Accuracy was none\n",
      "[Epoch 49/50] Train loss =     0.03586 (min =     0.03150)    accuracy = 1.00000 (max = 1.00000) | Test  loss =     0.42136 (min =     0.41217)    accuracy = 0.66667 (max = 0.66667)\n",
      "Accuracy was none\n"
     ]
    }
   ],
   "source": [
    "# Define an optimiser \n",
    "optimizer = torch.optim.Adam(net.parameters(), lr=0.001)\n",
    "\n",
    "# Training the network\n",
    "error = slayer.loss.SpikeRate(true_rate=0.2, false_rate=0.03, reduction='sum').to(device)\n",
    "\n",
    "# Create a training assistant object\n",
    "stats = slayer.utils.LearningStats()\n",
    "assistant = slayer.utils.Assistant(net, error, optimizer, stats, classifier=slayer.classifier.Rate.predict)\n",
    "\n",
    "\n",
    "if redo_plot:\n",
    "    for i, (input, label) in enumerate(train_loader): # training loop\n",
    "        output = assistant.train(input, label)\n",
    "\n",
    "else: \n",
    "    for epoch in range(epochs):\n",
    "\n",
    "        for i, (input, label) in enumerate(train_loader): # training loop\n",
    "            output = assistant.train(input, label)\n",
    "        print(f'\\r[Epoch {epoch:2d}/{epochs}] {stats}', end='')\n",
    "\n",
    "        for i, (input, label) in enumerate(test_loader): # training loop\n",
    "            output = assistant.test(input, label)\n",
    "        print(f'\\r[Epoch {epoch:2d}/{epochs}] {stats}', end='')\n",
    "\n",
    "        if epoch%20 == 19: # cleanup display\n",
    "            print('\\r', ' '*len(f'\\r[Epoch {epoch:2d}/{epochs}] {stats}'))\n",
    "            stats_str = str(stats).replace(\"| \", \"\\n\")\n",
    "            print(f'[Epoch {epoch:2d}/{epochs}]\\n{stats_str}')\n",
    "\n",
    "        if stats.testing.best_accuracy:\n",
    "            torch.save(net.state_dict(), trained_folder + '/network.pt')\n",
    "        stats.update()\n",
    "        stats.save(trained_folder + '/')\n",
    "        net.grad_flow(trained_folder + '/')"
   ]
  },
  {
   "cell_type": "code",
   "execution_count": 5,
   "metadata": {},
   "outputs": [
    {
     "name": "stdout",
     "output_type": "stream",
     "text": [
      "(30, 30)\n"
     ]
    }
   ],
   "source": [
    "# import the best network during training \n",
    "net.load_state_dict(torch.load(trained_folder + '/network.pt'))\n",
    "net.export_hdf5(trained_folder + '/network.net')\n",
    "\n",
    "# Get the output for the input to each place\n",
    "test_loader2  = DataLoader(dataset=testing_set , batch_size=batch_size, shuffle=False)\n",
    "rate = []\n",
    "labels = []\n",
    "for i, (input, label) in enumerate(test_loader2):\n",
    "    output = net(input.to(device)) # Get network output\n",
    "    #guesses = assistant.classifier(output).cpu().data.numpy() # get the predictions \n",
    "    rate.extend(Rate.rate(output).cpu().data.numpy()) # Get the firing rates for each place \n",
    "    labels.extend(label.cpu().data.numpy()) # Get place labels\n",
    "\n",
    "\n",
    "# Get rates in percentages of total\n",
    "for i in range(num_places):\n",
    "    sum = np.sum(rate[i])\n",
    "    if sum != 0:\n",
    "        rate[i] = np.divide(rate[i],sum)\n",
    "\n",
    "# Make confusion matrix annotations\n",
    "accuracy = 0\n",
    "matches = []\n",
    "annotations = [['' for i in range(num_places)] for j in range(num_places)]\n",
    "for qryIndex in range(num_places):\n",
    "    max_idx = np.argmax(rate[qryIndex])\n",
    "    matches.append(max_idx)\n",
    "    annotations[max_idx][qryIndex] = 'x'\n",
    "    if max_idx ==qryIndex:\n",
    "        accuracy += 1\n",
    "\n",
    "\n",
    "#--------------- Apply a sequencer ------------------#\n",
    "I = np.identity(sequence_length)\n",
    "conv = signal.convolve2d(rate, I, mode='same')\n",
    "print(np.shape(conv))\n",
    "\n",
    "# Make confusion matrix annotations\n",
    "accuracy_s = 0\n",
    "matches_with_seq = []\n",
    "annotations_s = [['' for i in range(num_places)] for j in range(num_places)]\n",
    "for qryIndex in range(num_places):\n",
    "    max_idx = np.argmax(conv[qryIndex])\n",
    "    matches_with_seq.append(max_idx)\n",
    "    annotations_s[max_idx][qryIndex] = 'x'\n",
    "    if max_idx == qryIndex:\n",
    "        accuracy_s += 1\n",
    "\n"
   ]
  },
  {
   "cell_type": "code",
   "execution_count": 6,
   "metadata": {},
   "outputs": [
    {
     "name": "stdout",
     "output_type": "stream",
     "text": [
      "help\n"
     ]
    },
    {
     "ename": "FileNotFoundError",
     "evalue": "[Errno 2] No such file or directory: './../results/2022-09-22_16-27-13/log.txt'",
     "output_type": "error",
     "traceback": [
      "\u001b[0;31m---------------------------------------------------------------------------\u001b[0m",
      "\u001b[0;31mFileNotFoundError\u001b[0m                         Traceback (most recent call last)",
      "\u001b[1;32m/home/n10223622/snn-event-vpr/src/software_pipeline.ipynb Cell 7\u001b[0m in \u001b[0;36m<cell line: 64>\u001b[0;34m()\u001b[0m\n\u001b[1;32m     <a href='vscode-notebook-cell://ssh-remote%2Bvenus.qut.edu.au/home/n10223622/snn-event-vpr/src/software_pipeline.ipynb#W6sdnNjb2RlLXJlbW90ZQ%3D%3D?line=38'>39</a>\u001b[0m log_path \u001b[39m=\u001b[39m results_path \u001b[39m+\u001b[39m \u001b[39m\"\u001b[39m\u001b[39m/log.txt\u001b[39m\u001b[39m\"\u001b[39m\n\u001b[1;32m     <a href='vscode-notebook-cell://ssh-remote%2Bvenus.qut.edu.au/home/n10223622/snn-event-vpr/src/software_pipeline.ipynb#W6sdnNjb2RlLXJlbW90ZQ%3D%3D?line=39'>40</a>\u001b[0m log_string  \u001b[39m=\u001b[39m \u001b[39m\"\"\"\u001b[39m\n\u001b[1;32m     <a href='vscode-notebook-cell://ssh-remote%2Bvenus.qut.edu.au/home/n10223622/snn-event-vpr/src/software_pipeline.ipynb#W6sdnNjb2RlLXJlbW90ZQ%3D%3D?line=40'>41</a>\u001b[0m \u001b[39m---- DATA SETTINGS ---- \u001b[39m\n\u001b[1;32m     <a href='vscode-notebook-cell://ssh-remote%2Bvenus.qut.edu.au/home/n10223622/snn-event-vpr/src/software_pipeline.ipynb#W6sdnNjb2RlLXJlbW90ZQ%3D%3D?line=41'>42</a>\u001b[0m \u001b[39mTraining datasets = \u001b[39m\u001b[39m{}\u001b[39;00m\n\u001b[0;32m   (...)\u001b[0m\n\u001b[1;32m     <a href='vscode-notebook-cell://ssh-remote%2Bvenus.qut.edu.au/home/n10223622/snn-event-vpr/src/software_pipeline.ipynb#W6sdnNjb2RlLXJlbW90ZQ%3D%3D?line=61'>62</a>\u001b[0m                 samples_per_sec,max_spikes,input_size,input_size,threshold,epochs,\n\u001b[1;32m     <a href='vscode-notebook-cell://ssh-remote%2Bvenus.qut.edu.au/home/n10223622/snn-event-vpr/src/software_pipeline.ipynb#W6sdnNjb2RlLXJlbW90ZQ%3D%3D?line=62'>63</a>\u001b[0m                 batch_size,sequence_length,accuracy,accuracy_s)\n\u001b[0;32m---> <a href='vscode-notebook-cell://ssh-remote%2Bvenus.qut.edu.au/home/n10223622/snn-event-vpr/src/software_pipeline.ipynb#W6sdnNjb2RlLXJlbW90ZQ%3D%3D?line=63'>64</a>\u001b[0m f \u001b[39m=\u001b[39m \u001b[39mopen\u001b[39;49m(log_path)\n\u001b[1;32m     <a href='vscode-notebook-cell://ssh-remote%2Bvenus.qut.edu.au/home/n10223622/snn-event-vpr/src/software_pipeline.ipynb#W6sdnNjb2RlLXJlbW90ZQ%3D%3D?line=64'>65</a>\u001b[0m f\u001b[39m.\u001b[39mwrite(log_string)\n\u001b[1;32m     <a href='vscode-notebook-cell://ssh-remote%2Bvenus.qut.edu.au/home/n10223622/snn-event-vpr/src/software_pipeline.ipynb#W6sdnNjb2RlLXJlbW90ZQ%3D%3D?line=65'>66</a>\u001b[0m f\u001b[39m.\u001b[39mclose()\n",
      "\u001b[0;31mFileNotFoundError\u001b[0m: [Errno 2] No such file or directory: './../results/2022-09-22_16-27-13/log.txt'"
     ]
    },
    {
     "data": {
      "text/plain": [
       "<Figure size 1296x288 with 0 Axes>"
      ]
     },
     "metadata": {},
     "output_type": "display_data"
    },
    {
     "data": {
      "text/plain": [
       "<Figure size 1296x288 with 0 Axes>"
      ]
     },
     "metadata": {},
     "output_type": "display_data"
    }
   ],
   "source": [
    "\n",
    "#--------------- Save Results ------------------#\n",
    "\n",
    "# Make new folder for results\n",
    "from tracemalloc import start\n",
    "from plotting import plot_gps\n",
    "\n",
    "\n",
    "time_stamp = datetime.now().strftime('%Y-%m-%d_%H-%M-%S')\n",
    "results_path = \"./../results/\" + time_stamp\n",
    "os.mkdir(results_path)\n",
    "\n",
    "\n",
    "# Save query and match images \n",
    "images_path = results_path + \"/matched_images\"\n",
    "images_path_seq = results_path + \"/matched_images_seq\"\n",
    "os.mkdir(images_path)\n",
    "os.mkdir(images_path_seq)\n",
    "\n",
    "print('help')\n",
    "plot_match_images(images_path + \"/\", matches, training_set.place_images, testing_set.place_images)\n",
    "plot_match_images(images_path_seq + \"/\", matches_with_seq, training_set.place_images, testing_set.place_images)\n",
    "\n",
    "# Save the confusion matrices\n",
    "confusion_path = results_path + \"/confusion_matrices\"\n",
    "os.mkdir(confusion_path)\n",
    "rate = transpose(rate)\n",
    "conv = transpose(conv)\n",
    "output_path = confusion_path + \"/confusion_matrix\" \n",
    "output_path_s = confusion_path + \"/confusion_matrix_seq\" \n",
    "plot_confusion_matrix(rate, labels, annotations, output_path, vmin, vmax)\n",
    "plot_confusion_matrix(conv, labels, annotations_s, output_path_s, vmin, vmax)\n",
    "\n",
    "# Save GPS map'\n",
    "gps_path = results_path + \"/gps_locations\"\n",
    "plot_gps(gps_path, training_set.place_locations, testing_set.place_locations)\n",
    "\n",
    "# Save test settings and accuracy\n",
    "accuracy = accuracy/num_places\n",
    "accuracy_s = accuracy_s/num_places\n"
   ]
  },
  {
   "cell_type": "code",
   "execution_count": 7,
   "metadata": {},
   "outputs": [
    {
     "name": "stdout",
     "output_type": "stream",
     "text": [
      "The accuracy of the network is: 0.5666666666666667\n",
      "The accuracy with a sequencer is: 0.9\n"
     ]
    }
   ],
   "source": [
    "\n",
    "log_path = results_path + \"/log.txt\"\n",
    "log_string  = \"\"\"\n",
    "---- DATA SETTINGS ---- \n",
    "Training datasets = {}\n",
    "Testing datasets = {} \n",
    "# Places = {}\n",
    "Start time = {} [s]\n",
    "Place gap = {} [s]\n",
    "Place duration = {} [s]\n",
    "Samples per second = {} \n",
    "Max spikes per sample = {}\n",
    "---- NETWORK SETTINGS ---- \n",
    "Input size = {}x{} \n",
    "Threshold = {}\n",
    "---- TRAINING SETTINGS ---- \n",
    "Epochs = {}\n",
    "Batch size = {}\n",
    "---- SEQUENCER SETTINGS ----\n",
    "Sequence lengtth = {} \n",
    "---- RESULTS ----\n",
    "Accuracy = {}\n",
    "Accuracy (sequencer) = {}\n",
    "\"\"\".format(train_name,test_name,num_places,start_time,place_gap,place_duration,\n",
    "                samples_per_sec,max_spikes,input_size,input_size,threshold,epochs,\n",
    "                batch_size,sequence_length,accuracy,accuracy_s)\n",
    "f = open(log_path,'w')\n",
    "f.write(log_string)\n",
    "f.close()\n",
    "\n",
    "print(\"The accuracy of the network is: \" + str(accuracy))\n",
    "print(\"The accuracy with a sequencer is: \" + str(accuracy_s))"
   ]
  }
 ],
 "metadata": {
  "kernelspec": {
   "display_name": "Python 3.10.4 ('lavaenv')",
   "language": "python",
   "name": "python3"
  },
  "language_info": {
   "codemirror_mode": {
    "name": "ipython",
    "version": 3
   },
   "file_extension": ".py",
   "mimetype": "text/x-python",
   "name": "python",
   "nbconvert_exporter": "python",
   "pygments_lexer": "ipython3",
   "version": "3.10.4"
  },
  "orig_nbformat": 4,
  "vscode": {
   "interpreter": {
    "hash": "63e713066215dbc07efbeb034515a5b964b6ad27977c03151c829f7f04a8001d"
   }
  }
 },
 "nbformat": 4,
 "nbformat_minor": 2
}
